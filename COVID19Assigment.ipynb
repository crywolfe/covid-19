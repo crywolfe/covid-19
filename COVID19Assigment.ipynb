{
  "nbformat": 4,
  "nbformat_minor": 0,
  "metadata": {
    "colab": {
      "name": "COVID19Assigment.ipynb",
      "provenance": [],
      "collapsed_sections": [],
      "toc_visible": true,
      "include_colab_link": true
    },
    "kernelspec": {
      "name": "python3",
      "display_name": "Python 3"
    },
    "accelerator": "GPU"
  },
  "cells": [
    {
      "cell_type": "markdown",
      "metadata": {
        "id": "view-in-github",
        "colab_type": "text"
      },
      "source": [
        "<a href=\"https://colab.research.google.com/github/crywolfe/CIS-700-COVID-19/blob/master/COVID19Assigment.ipynb\" target=\"_parent\"><img src=\"https://colab.research.google.com/assets/colab-badge.svg\" alt=\"Open In Colab\"/></a>"
      ]
    },
    {
      "cell_type": "markdown",
      "metadata": {
        "id": "DP0j3OEM2eMi",
        "colab_type": "text"
      },
      "source": [
        ""
      ]
    },
    {
      "cell_type": "markdown",
      "metadata": {
        "id": "_n7rJKc25n5_",
        "colab_type": "text"
      },
      "source": [
        "# Pulmonary Risks"
      ]
    },
    {
      "cell_type": "markdown",
      "metadata": {
        "id": "_blu9fR2MYg9",
        "colab_type": "text"
      },
      "source": [
        "### COVID-19 pulmonary risks literature clustering\n",
        "- author = {Gerry Wolfe, Will Schreiber, Ashraf Elnashar}\n",
        "- title = {COVID-19 pulmonary risks literature clustering}\n",
        "- year = {2020}\n",
        "- month = {April}\n",
        "- location = {Syracuse University, USA}"
      ]
    },
    {
      "cell_type": "markdown",
      "metadata": {
        "id": "gc_0WStkT2hD",
        "colab_type": "text"
      },
      "source": [
        "## Abstract\n",
        "COVID-19, short for \"coronavirus disease 2019,\" has majorly affected millions of people around the globe. In the US alone as of the end of this week (April 18, 2020), there have been 690,714 total cases, with 35,443 deaths. In the entire world there have been 2,325,335 cases with 160,448 deaths. And these are just the reported cases.\n",
        "\n",
        "Our perspective for this project is essentially a bottom up approach searching for ideas, answers, and information in the COVID -19 dataset concentrating on the pulmonary related diseases and their relationship to COVID-19.\n",
        "We are using a combination of clustering, classifying, and related datasets to accomplish this. As we delve further into our reseach, we expect to add to this abstract and we expect that our research will lead to modifications in our approach.\n",
        "The Dataset we are using is the COVID-19 Open Research Dataset Challenge from Kaggle, and we are focusing on a subset of that, COVID-19 Pulmonary Risks Literature Clustering, also from Kaggle.\n",
        "\n",
        "[Remainder of abstract to be completed as the project continues]\n",
        "\n"
      ]
    },
    {
      "cell_type": "markdown",
      "metadata": {
        "id": "M8OVHH2zMdbg",
        "colab_type": "text"
      },
      "source": [
        "# Introduction\n",
        "\n",
        "COVID-19 is the official name given by the [World Health Organization](https://www.who.int/emergencies/diseases/novel-coronavirus-2019/situation-reports/) to the disease caused by this newly identified coronavirus.\n",
        "Coronaviruses are an extremely common cause of colds and other upper respiratory infections.\n",
        "The most up-to-date information is available from the [World Health Organization]((https://www.who.int/emergencies/diseases/novel-coronavirus-2019/situation-reports/)), the [US Centers for Disease Control and Prevention](https://www.cdc.gov/coronavirus/2019-ncov/cases-updates/cases-in-us.html?CDC_AA_refVal=https%3A%2F%2Fwww.cdc.gov%2Fcoronavirus%2F2019-ncov%2Fcases-in-us.html), [Johns Hopkins University](https://www.arcgis.com/apps/opsdashboard/index.html#/bda7594740fd40299423467b48e9ecf6), and [Maryland Transportation Institute](https://data.covid.umd.edu/).\n",
        "\n",
        "It has spread so rapidly and to so many countries that the [World Health Organization](https://www.who.int/emergencies/diseases/novel-coronavirus-2019/situation-reports/) has declared it a pandemic (a term indicating that it has affected a large population, region, country, or continent)."
      ]
    },
    {
      "cell_type": "markdown",
      "metadata": {
        "id": "1in6yL2iMmNr",
        "colab_type": "text"
      },
      "source": [
        "# Goal & Research Questions\n",
        "- Given the large amount of literature and the rapid spread of COVID-19, the the literature has not been able to be effectively organized. This project is meant to help organize the literature related to pulmonary diseases and its effect on COVID-19. \n",
        "\n",
        "-  We intend on clustering the articles surrounding pulmonary related diseases to help researchers better determine possible trends, opportunities of research, and focus. We will focus on quantifying this data so we can help determine the important factors in the tidal wave of articles.\n",
        "\n",
        "-  We will also be using the Maryland Transportation Institute dataset related to transportation and social distancing. We are looking at this data because at this time, it seems the data here is highly uncorrelated to pulmonary diseases. This data will help us answer the following question.\n",
        "\n",
        "-  Are there any trends uncovered in the literature discussing certain risk factors, specifically social distancing from the Maryland Transportation website that have no direct correlation with pulmonary risk factors?\n",
        "\n",
        "-  We also are interested in determining if the literature discusses the percentages of risk between different types of smoking, such as cigarette, cigar, or marijuana? In other words, is it possible marijuana smokers may have a higher risk than cigarette smokers?"
      ]
    },
    {
      "cell_type": "markdown",
      "metadata": {
        "id": "hpYhx4r_MqJY",
        "colab_type": "text"
      },
      "source": [
        "# Approach:\n",
        "\n",
        "- Parse the text from the body of each document.\n",
        "- Create feature vectors.\n",
        "- Applying dimensional reduction to each feature vector.\n",
        "- Apply k-means or another clustering algorithm to label the data.\n",
        "- Extract the important clusters and analyze the classified data.\n"
      ]
    },
    {
      "cell_type": "markdown",
      "metadata": {
        "id": "NEIjDTubM5tk",
        "colab_type": "text"
      },
      "source": [
        "### Dataset Description - Allen Institute\n",
        "\n",
        ">In response to the COVID-19 pandemic, the White House and a coalition of leading research groups have prepared the COVID-19 Open Research Dataset (CORD-19). CORD-19 is a resource of over 51,000 scholarly articles, including over 40,000 with full text, about COVID-19, SARS-CoV-2, and related coronaviruses. This freely available dataset is provided to the global research community to apply recent advances in natural language processing and other AI techniques to generate new insights in support of the ongoing fight against this infectious disease. There is a growing urgency for these approaches because of the rapid acceleration in new coronavirus literature, making it difficult for the medical research community to keep up.\n",
        "> #### Cite: [COVID-19 Open Research Dataset Challenge (CORD-19) | Kaggle](https://www.kaggle.com/allen-institute-for-ai/CORD-19-research-challenge) \n",
        "> #### Kaggle Submission: [COVID-19 Pulmonary Risks Literature Clustering | Kaggle](https://www.kaggle.com/crywolfe/pulmonaryrisks)\n",
        "\n",
        "### Dataset Description - Maryland Transportation\n",
        "\n",
        "> Researchers at the University of Maryland (UMD) are exploring how social distancing and stay-at-home orders are affecting travel behavior and spread of the coronavirus. With privacy-protected data from mobile devices, government agencies, health care systems, and other sources, we are also studying the multifaceted impact of COVID-19 on our mobility, health, economy, and society. Through this interactive analytics platform, we are making our data and research findings available to other researchers, agencies, non-profits, media, and the general public. The platform will evolve and expand over time as new data and impact metrics are computed and additional visualizations are developed.\n",
        "\n",
        "> #### Cite: [COVID-19 Impact Analysis Platform](https://data.covid.umd.edu/)\n"
      ]
    },
    {
      "cell_type": "markdown",
      "metadata": {
        "id": "s6uB1lkyVaIj",
        "colab_type": "text"
      },
      "source": [
        "# Loading Data\n"
      ]
    },
    {
      "cell_type": "markdown",
      "metadata": {
        "id": "EfV41haGVw3K",
        "colab_type": "text"
      },
      "source": [
        "## Loading Dataset"
      ]
    },
    {
      "cell_type": "code",
      "metadata": {
        "id": "sFY1U1qvp2Tj",
        "colab_type": "code",
        "outputId": "041169e9-5ba5-4362-d5d4-6d80cd6c4e04",
        "colab": {
          "resources": {
            "http://localhost:8080/nbextensions/google.colab/files.js": {
              "data": "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",
              "ok": true,
              "headers": [
                [
                  "content-type",
                  "application/javascript"
                ]
              ],
              "status": 200,
              "status_text": ""
            }
          },
          "base_uri": "https://localhost:8080/",
          "height": 93
        }
      },
      "source": [
        "from google.colab import files\n",
        "files.upload()\n"
      ],
      "execution_count": 0,
      "outputs": [
        {
          "output_type": "display_data",
          "data": {
            "text/html": [
              "\n",
              "     <input type=\"file\" id=\"files-64311cfb-eeaa-49d9-87ac-670acbeae6e2\" name=\"files[]\" multiple disabled />\n",
              "     <output id=\"result-64311cfb-eeaa-49d9-87ac-670acbeae6e2\">\n",
              "      Upload widget is only available when the cell has been executed in the\n",
              "      current browser session. Please rerun this cell to enable.\n",
              "      </output>\n",
              "      <script src=\"/nbextensions/google.colab/files.js\"></script> "
            ],
            "text/plain": [
              "<IPython.core.display.HTML object>"
            ]
          },
          "metadata": {
            "tags": []
          }
        },
        {
          "output_type": "stream",
          "text": [
            "Saving kaggle.json to kaggle.json\n"
          ],
          "name": "stdout"
        },
        {
          "output_type": "execute_result",
          "data": {
            "text/plain": [
              "{'kaggle.json': b'{\"username\":\"ashrafelnashar\",\"key\":\"775a224b5174bcbf70af20375cf1f61c\"}'}"
            ]
          },
          "metadata": {
            "tags": []
          },
          "execution_count": 1
        }
      ]
    },
    {
      "cell_type": "code",
      "metadata": {
        "id": "eX1bQIKWuFbB",
        "colab_type": "code",
        "colab": {}
      },
      "source": [
        "!mkdir -p ~/.kaggle\n",
        "!cp kaggle.json ~/.kaggle/\n",
        "!chmod 600 ~/.kaggle/kaggle.json"
      ],
      "execution_count": 0,
      "outputs": []
    },
    {
      "cell_type": "code",
      "metadata": {
        "id": "M-FG_z2ozzwQ",
        "colab_type": "code",
        "colab": {}
      },
      "source": [
        "# !kaggle datasets list"
      ],
      "execution_count": 0,
      "outputs": []
    },
    {
      "cell_type": "code",
      "metadata": {
        "id": "oguUkYmdz7OO",
        "colab_type": "code",
        "outputId": "c99c96cd-7ae6-4dae-f41c-be7a56609302",
        "colab": {
          "base_uri": "https://localhost:8080/",
          "height": 72
        }
      },
      "source": [
        "!kaggle datasets download -d allen-institute-for-ai/CORD-19-research-challenge"
      ],
      "execution_count": 0,
      "outputs": [
        {
          "output_type": "stream",
          "text": [
            "Downloading CORD-19-research-challenge.zip to /content\n",
            "100% 2.75G/2.75G [00:42<00:00, 37.7MB/s]\n",
            "100% 2.75G/2.75G [00:42<00:00, 69.1MB/s]\n"
          ],
          "name": "stdout"
        }
      ]
    },
    {
      "cell_type": "code",
      "metadata": {
        "colab_type": "code",
        "outputId": "8edb02ee-3f92-4722-db7d-1711593dd33d",
        "id": "KiT0XSqr0hl4",
        "colab": {
          "base_uri": "https://localhost:8080/",
          "height": 54
        }
      },
      "source": [
        "!pwd\n",
        "!cd content/\n",
        "!mkdir CORD-19\n"
      ],
      "execution_count": 0,
      "outputs": [
        {
          "output_type": "stream",
          "text": [
            "/content\n",
            "/bin/bash: line 0: cd: content/: No such file or directory\n"
          ],
          "name": "stdout"
        }
      ]
    },
    {
      "cell_type": "code",
      "metadata": {
        "id": "lHXnsV2p0Q4h",
        "colab_type": "code",
        "outputId": "9c2dda65-199a-4523-ad79-8a0e27091075",
        "colab": {
          "base_uri": "https://localhost:8080/",
          "height": 1000
        }
      },
      "source": [
        "!unzip CORD-19-research-challenge.zip  -d /content/CORD-19/"
      ],
      "execution_count": 0,
      "outputs": [
        {
          "output_type": "stream",
          "text": [
            "Archive:  CORD-19-research-challenge.zip\n",
            "  inflating: /content/CORD-19/COVID.DATA.LIC.AGMT.pdf  \n",
            "  inflating: /content/CORD-19/Kaggle/target_tables/0_table_formats_and_column_definitions/column_definitions.docx  \n",
            "  inflating: /content/CORD-19/Kaggle/target_tables/0_table_formats_and_column_definitions/column_definitions.txt  \n",
            "  inflating: /content/CORD-19/Kaggle/target_tables/0_table_formats_and_column_definitions/list_of_tables_and_table_formats.csv  \n",
            "  inflating: /content/CORD-19/Kaggle/target_tables/0_table_formats_and_column_definitions/list_of_tables_and_table_formats.xlsx  \n",
            "  inflating: /content/CORD-19/Kaggle/target_tables/0_table_formats_and_column_definitions/notes_and_disclaimer.txt  \n",
            "  inflating: /content/CORD-19/Kaggle/target_tables/0_table_formats_and_column_definitions/study_design.pdf  \n",
            "  inflating: /content/CORD-19/Kaggle/target_tables/1_population/Management of patients who are underhoused or otherwise lower social economic status.csv  \n",
            "  inflating: /content/CORD-19/Kaggle/target_tables/1_population/Methods to control the spread in communities.csv  \n",
            "  inflating: /content/CORD-19/Kaggle/target_tables/1_population/Modes of communicating with target high-risk populations.csv  \n",
            "  inflating: /content/CORD-19/Kaggle/target_tables/1_population/What are recommendations for combating_overcoming resource failures_.csv  \n",
            "  inflating: /content/CORD-19/Kaggle/target_tables/1_population/What are ways to create hospital infrastructure to prevent nosocomial outbreaks_.csv  \n",
            "  inflating: /content/CORD-19/Kaggle/target_tables/2_relevant_factors/Effectiveness of a multifactorial strategy to prevent secondary transmission.csv  \n",
            "  inflating: /content/CORD-19/Kaggle/target_tables/2_relevant_factors/Effectiveness of case isolation_isolation of exposed individuals to prevent secondary transmission.csv  \n",
            "  inflating: /content/CORD-19/Kaggle/target_tables/2_relevant_factors/Effectiveness of community contact reduction.csv  \n",
            "  inflating: /content/CORD-19/Kaggle/target_tables/2_relevant_factors/Effectiveness of inter_inner travel restriction .csv  \n",
            "  inflating: /content/CORD-19/Kaggle/target_tables/2_relevant_factors/Effectiveness of personal protective equipment (PPE).csv  \n",
            "  inflating: /content/CORD-19/Kaggle/target_tables/2_relevant_factors/Effectiveness of school distancing.csv  \n",
            "  inflating: /content/CORD-19/Kaggle/target_tables/2_relevant_factors/Effectiveness of workplace distancing to prevent secondary transmission.csv  \n",
            "  inflating: /content/CORD-19/Kaggle/target_tables/2_relevant_factors/Evidence that domesticated_farm animals can be infected and maintain transmissibility of the disease.csv  \n",
            "  inflating: /content/CORD-19/Kaggle/target_tables/2_relevant_factors/How does temperature and humidity affect the transmission of 2019-nCoV_.csv  \n",
            "  inflating: /content/CORD-19/Kaggle/target_tables/2_relevant_factors/Methods to understand and regulate the spread in communities.csv  \n",
            "  inflating: /content/CORD-19/Kaggle/target_tables/2_relevant_factors/Seasonality of transmission .csv  \n",
            "  inflating: /content/CORD-19/Kaggle/target_tables/2_relevant_factors/What is the likelihood of significant changes in transmissibility in changing seasons_.csv  \n",
            "  inflating: /content/CORD-19/Kaggle/target_tables/3_patient_descriptions/Can the virus be transmitted asymptomatically or during the incubation period_.csv  \n",
            "  inflating: /content/CORD-19/Kaggle/target_tables/3_patient_descriptions/How does viral load relate to disease presentations and likelihood of a positive diagnostic test_.csv  \n",
            "  inflating: /content/CORD-19/Kaggle/target_tables/3_patient_descriptions/Incubation period across different age groups.csv  \n",
            "  inflating: /content/CORD-19/Kaggle/target_tables/3_patient_descriptions/Length of viral shedding after illness onset.csv  \n",
            "  inflating: /content/CORD-19/Kaggle/target_tables/3_patient_descriptions/Manifestations of COVID-19 including but not limited to possible cardiomyopathy and cardiac arrest.csv  \n",
            "  inflating: /content/CORD-19/Kaggle/target_tables/3_patient_descriptions/Proportion of all positive COVID19 patients who were asymptomatic.csv  \n",
            "  inflating: /content/CORD-19/Kaggle/target_tables/3_patient_descriptions/Proportion of pediatric COVID19 patients who were asymptomatic.csv  \n",
            "  inflating: /content/CORD-19/Kaggle/target_tables/3_patient_descriptions/What is the incubation period of the virus_.csv  \n",
            "  inflating: /content/CORD-19/Kaggle/target_tables/4_models_and_open_questions/Are there studies about phenotypic change_.csv  \n",
            "  inflating: /content/CORD-19/Kaggle/target_tables/4_models_and_open_questions/Efforts to develop qualitative assessment frameworks.csv  \n",
            "  inflating: /content/CORD-19/Kaggle/target_tables/4_models_and_open_questions/How can we measure changes in COVID-19_s behavior in a human host as the virus evolves over time_.csv  \n",
            "  inflating: /content/CORD-19/Kaggle/target_tables/4_models_and_open_questions/Serial Interval (time between symptom onset in infector-infectee pair).csv  \n",
            "  inflating: /content/CORD-19/Kaggle/target_tables/4_models_and_open_questions/Tools and studies to monitor phenotypic change and potential adaptation of the virus.csv  \n",
            "  inflating: /content/CORD-19/Kaggle/target_tables/4_models_and_open_questions/What do models for transmission predict_.csv  \n",
            "  inflating: /content/CORD-19/Kaggle/target_tables/4_models_and_open_questions/What is known about adaptations (mutations) of the virus_.csv  \n",
            "  inflating: /content/CORD-19/Kaggle/target_tables/4_models_and_open_questions/What regional genetic variations (mutations) exist.csv  \n",
            "  inflating: /content/CORD-19/Kaggle/target_tables/5_materials/Coronavirus adhesion to hydrophilic_phobic surfaces.csv  \n",
            "  inflating: /content/CORD-19/Kaggle/target_tables/5_materials/How long can the 2019-nCoV virus remain viable on common surfaces_.csv  \n",
            "  inflating: /content/CORD-19/Kaggle/target_tables/5_materials/Informing decontamination based on physical science of the coronavirus.csv  \n",
            "  inflating: /content/CORD-19/Kaggle/target_tables/5_materials/Persistence of virus on surfaces of different materials.csv  \n",
            "  inflating: /content/CORD-19/Kaggle/target_tables/5_materials/Susceptibility to environmental cleaning agents.csv  \n",
            "  inflating: /content/CORD-19/Kaggle/target_tables/5_materials/What do we know about viral shedding in blood_.csv  \n",
            "  inflating: /content/CORD-19/Kaggle/target_tables/5_materials/What do we know about viral shedding in stool_.csv  \n",
            "  inflating: /content/CORD-19/Kaggle/target_tables/5_materials/What do we know about viral shedding in the nasopharynx_.csv  \n",
            "  inflating: /content/CORD-19/Kaggle/target_tables/5_materials/What do we know about viral shedding in urine_.csv  \n",
            "  inflating: /content/CORD-19/Kaggle/target_tables/6_diagnostics/Development of a point-of-care test and rapid bed-side tests.csv  \n",
            "  inflating: /content/CORD-19/Kaggle/target_tables/6_diagnostics/New advances in diagnosing SARS-COV-2.csv  \n",
            "  inflating: /content/CORD-19/Kaggle/target_tables/7_therapeutics_interventions_and_clinical_studies/What is the best method to combat the hypercoagulable state seen in COVID-19_.csv  \n",
            "  inflating: /content/CORD-19/Kaggle/target_tables/7_therapeutics_interventions_and_clinical_studies/What is the efficacy of novel therapeutics being tested currently_.csv  \n",
            "  inflating: /content/CORD-19/Kaggle/target_tables/8_risk_factors/Age.csv  \n",
            "  inflating: /content/CORD-19/Kaggle/target_tables/8_risk_factors/Asthma.csv  \n",
            "  inflating: /content/CORD-19/Kaggle/target_tables/8_risk_factors/COPD.csv  \n",
            "  inflating: /content/CORD-19/Kaggle/target_tables/8_risk_factors/Cancer.csv  \n",
            "  inflating: /content/CORD-19/Kaggle/target_tables/8_risk_factors/Cardio- and cerebrovascular disease.csv  \n",
            "  inflating: /content/CORD-19/Kaggle/target_tables/8_risk_factors/Cerebrovascular disease.csv  \n",
            "  inflating: /content/CORD-19/Kaggle/target_tables/8_risk_factors/Chronic kidney disease.csv  \n",
            "  inflating: /content/CORD-19/Kaggle/target_tables/8_risk_factors/Chronic liver disease.csv  \n",
            "  inflating: /content/CORD-19/Kaggle/target_tables/8_risk_factors/Chronic respiratory diseases.csv  \n",
            "  inflating: /content/CORD-19/Kaggle/target_tables/8_risk_factors/Dementia.csv  \n",
            "  inflating: /content/CORD-19/Kaggle/target_tables/8_risk_factors/Diabetes.csv  \n",
            "  inflating: /content/CORD-19/Kaggle/target_tables/8_risk_factors/Drinking.csv  \n",
            "  inflating: /content/CORD-19/Kaggle/target_tables/8_risk_factors/Endocrine diseases.csv  \n",
            "  inflating: /content/CORD-19/Kaggle/target_tables/8_risk_factors/Heart Disease.csv  \n",
            "  inflating: /content/CORD-19/Kaggle/target_tables/8_risk_factors/Heart Failure.csv  \n",
            "  inflating: /content/CORD-19/Kaggle/target_tables/8_risk_factors/Hypertension.csv  \n",
            "  inflating: /content/CORD-19/Kaggle/target_tables/8_risk_factors/Immune system disorders.csv  \n",
            "  inflating: /content/CORD-19/Kaggle/target_tables/8_risk_factors/Male gender.csv  \n",
            "  inflating: /content/CORD-19/Kaggle/target_tables/8_risk_factors/Overweight or obese.csv  \n",
            "  inflating: /content/CORD-19/Kaggle/target_tables/8_risk_factors/Respiratory system diseases.csv  \n",
            "  inflating: /content/CORD-19/Kaggle/target_tables/8_risk_factors/Smoking Status.csv  \n",
            "  inflating: /content/CORD-19/Kaggle/target_tables/unsorted_tables/key_scientific_questions/Adhesion to hydrophilic_phobic surfaces.csv  \n",
            "  inflating: /content/CORD-19/Kaggle/target_tables/unsorted_tables/key_scientific_questions/Are there studies about phenotypic change_.csv  \n",
            "  inflating: /content/CORD-19/Kaggle/target_tables/unsorted_tables/key_scientific_questions/Can the virus be transmitted asymptomatically or during the incubation period_.csv  \n",
            "  inflating: /content/CORD-19/Kaggle/target_tables/unsorted_tables/key_scientific_questions/Development of a point-of-care test and rapid bed-side tests.csv  \n",
            "  inflating: /content/CORD-19/Kaggle/target_tables/unsorted_tables/key_scientific_questions/Effectiveness of a multifactorial strategy to prevent secondary transmission.csv  \n",
            "  inflating: /content/CORD-19/Kaggle/target_tables/unsorted_tables/key_scientific_questions/Effectiveness of case isolation_isolation of exposed individuals to prevent secondary transmission.csv  \n",
            "  inflating: /content/CORD-19/Kaggle/target_tables/unsorted_tables/key_scientific_questions/Effectiveness of community contact reduction.csv  \n",
            "  inflating: /content/CORD-19/Kaggle/target_tables/unsorted_tables/key_scientific_questions/Effectiveness of inter_inner travel restriction .csv  \n",
            "  inflating: /content/CORD-19/Kaggle/target_tables/unsorted_tables/key_scientific_questions/Effectiveness of personal protective equipment (PPE).csv  \n",
            "  inflating: /content/CORD-19/Kaggle/target_tables/unsorted_tables/key_scientific_questions/Effectiveness of school distancing.csv  \n",
            "  inflating: /content/CORD-19/Kaggle/target_tables/unsorted_tables/key_scientific_questions/Effectiveness of workplace distancing to prevent secondary transmission.csv  \n",
            "  inflating: /content/CORD-19/Kaggle/target_tables/unsorted_tables/key_scientific_questions/Efforts to develop qualitative assessment frameworks.csv  \n",
            "  inflating: /content/CORD-19/Kaggle/target_tables/unsorted_tables/key_scientific_questions/Evidence that domesticated_farm animals can be infected and maintain transmissibility of the disease.csv  \n",
            "  inflating: /content/CORD-19/Kaggle/target_tables/unsorted_tables/key_scientific_questions/How can we measure changes in COVID-19_s behavior in a human host as the virus evolves over time_.csv  \n",
            "  inflating: /content/CORD-19/Kaggle/target_tables/unsorted_tables/key_scientific_questions/How does temperature and humidity affect the transmission of 2019-nCoV_.csv  \n",
            "  inflating: /content/CORD-19/Kaggle/target_tables/unsorted_tables/key_scientific_questions/How does viral load relate to disease presentations and likelihood of a positive diagnostic test_.csv  \n",
            "  inflating: /content/CORD-19/Kaggle/target_tables/unsorted_tables/key_scientific_questions/How long can the 2019-nCoV virus remain viable on common surfaces_.csv  \n",
            "  inflating: /content/CORD-19/Kaggle/target_tables/unsorted_tables/key_scientific_questions/Incubation period across different age groups.csv  \n",
            "  inflating: /content/CORD-19/Kaggle/target_tables/unsorted_tables/key_scientific_questions/Informing decontamination based on physical science of the coronavirus.csv  \n",
            "  inflating: /content/CORD-19/Kaggle/target_tables/unsorted_tables/key_scientific_questions/Length of viral shedding after illness onset.csv  \n",
            "  inflating: /content/CORD-19/Kaggle/target_tables/unsorted_tables/key_scientific_questions/Management of patients who are underhoused or otherwise lower social economic status.csv  \n",
            "  inflating: /content/CORD-19/Kaggle/target_tables/unsorted_tables/key_scientific_questions/Manifestations of COVID-19 including but not limited to possible cardiomyopathy and cardiac arrest.csv  \n",
            "  inflating: /content/CORD-19/Kaggle/target_tables/unsorted_tables/key_scientific_questions/Measures to reach marginalized and disadvantaged populations.csv  \n",
            "  inflating: /content/CORD-19/Kaggle/target_tables/unsorted_tables/key_scientific_questions/Methods to control the spread in communities.csv  \n",
            "  inflating: /content/CORD-19/Kaggle/target_tables/unsorted_tables/key_scientific_questions/Methods to understand and regulate the spread in communities.csv  \n",
            "  inflating: /content/CORD-19/Kaggle/target_tables/unsorted_tables/key_scientific_questions/Modes of communicating with target high-risk populations.csv  \n",
            "  inflating: /content/CORD-19/Kaggle/target_tables/unsorted_tables/key_scientific_questions/New advances in diagnosing SARS-COV-2.csv  \n",
            "  inflating: /content/CORD-19/Kaggle/target_tables/unsorted_tables/key_scientific_questions/Persistence of virus on surfaces of different materials.csv  \n",
            "  inflating: /content/CORD-19/Kaggle/target_tables/unsorted_tables/key_scientific_questions/Proportion of all positive COVID19 patients who were asymptomatic.csv  \n",
            "  inflating: /content/CORD-19/Kaggle/target_tables/unsorted_tables/key_scientific_questions/Proportion of pediatric COVID19 patients who were asymptomatic.csv  \n",
            "  inflating: /content/CORD-19/Kaggle/target_tables/unsorted_tables/key_scientific_questions/Seasonality of transmission .csv  \n",
            "  inflating: /content/CORD-19/Kaggle/target_tables/unsorted_tables/key_scientific_questions/Serial Interval (time between symptom onset in infector-infectee pair).csv  \n",
            "  inflating: /content/CORD-19/Kaggle/target_tables/unsorted_tables/key_scientific_questions/Studies to monitor potential adaptations.csv  \n",
            "  inflating: /content/CORD-19/Kaggle/target_tables/unsorted_tables/key_scientific_questions/Susceptibility to environmental cleaning agents.csv  \n",
            "  inflating: /content/CORD-19/Kaggle/target_tables/unsorted_tables/key_scientific_questions/What are recommendations for combating_overcoming resource failures_.csv  \n",
            "  inflating: /content/CORD-19/Kaggle/target_tables/unsorted_tables/key_scientific_questions/What are ways to create hospital infrastructure to prevent nosocomial outbreaks_.csv  \n",
            "  inflating: /content/CORD-19/Kaggle/target_tables/unsorted_tables/key_scientific_questions/What do models for transmission predict_.csv  \n",
            "  inflating: /content/CORD-19/Kaggle/target_tables/unsorted_tables/key_scientific_questions/What do we know about viral shedding in blood_.csv  \n",
            "  inflating: /content/CORD-19/Kaggle/target_tables/unsorted_tables/key_scientific_questions/What do we know about viral shedding in stool_.csv  \n",
            "  inflating: /content/CORD-19/Kaggle/target_tables/unsorted_tables/key_scientific_questions/What do we know about viral shedding in the nasopharynx_.csv  \n",
            "  inflating: /content/CORD-19/Kaggle/target_tables/unsorted_tables/key_scientific_questions/What do we know about viral shedding in urine_.csv  \n",
            "  inflating: /content/CORD-19/Kaggle/target_tables/unsorted_tables/key_scientific_questions/What is known about adaptations (mutations) of the virus_.csv  \n",
            "  inflating: /content/CORD-19/Kaggle/target_tables/unsorted_tables/key_scientific_questions/What is the best method to combat the hypercoagulable state seen in COVID-19_.csv  \n",
            "  inflating: /content/CORD-19/Kaggle/target_tables/unsorted_tables/key_scientific_questions/What is the efficacy of novel therapeutics being tested currently_.csv  \n",
            "  inflating: /content/CORD-19/Kaggle/target_tables/unsorted_tables/key_scientific_questions/What is the incubation period of the virus_.csv  \n",
            "  inflating: /content/CORD-19/Kaggle/target_tables/unsorted_tables/key_scientific_questions/What is the likelihood of significant changes in transmissibility in changing seasons_.csv  \n",
            "  inflating: /content/CORD-19/Kaggle/target_tables/unsorted_tables/key_scientific_questions/What regional genetic variations (mutations) exist.csv  \n",
            "  inflating: /content/CORD-19/Kaggle/target_tables/unsorted_tables/risk_factors/Age.csv  \n",
            "  inflating: /content/CORD-19/Kaggle/target_tables/unsorted_tables/risk_factors/Asthma.csv  \n",
            "  inflating: /content/CORD-19/Kaggle/target_tables/unsorted_tables/risk_factors/COPD.csv  \n",
            "  inflating: /content/CORD-19/Kaggle/target_tables/unsorted_tables/risk_factors/Cancer.csv  \n",
            "  inflating: /content/CORD-19/Kaggle/target_tables/unsorted_tables/risk_factors/Cardio- and cerebrovascular disease.csv  \n",
            "  inflating: /content/CORD-19/Kaggle/target_tables/unsorted_tables/risk_factors/Cerebrovascular disease.csv  \n",
            "  inflating: /content/CORD-19/Kaggle/target_tables/unsorted_tables/risk_factors/Chronic kidney disease.csv  \n",
            "  inflating: /content/CORD-19/Kaggle/target_tables/unsorted_tables/risk_factors/Chronic liver disease.csv  \n",
            "  inflating: /content/CORD-19/Kaggle/target_tables/unsorted_tables/risk_factors/Chronic respiratory diseases.csv  \n",
            "  inflating: /content/CORD-19/Kaggle/target_tables/unsorted_tables/risk_factors/Dementia.csv  \n",
            "  inflating: /content/CORD-19/Kaggle/target_tables/unsorted_tables/risk_factors/Diabetes.csv  \n",
            "  inflating: /content/CORD-19/Kaggle/target_tables/unsorted_tables/risk_factors/Drinking.csv  \n",
            "  inflating: /content/CORD-19/Kaggle/target_tables/unsorted_tables/risk_factors/Endocrine diseases.csv  \n",
            "  inflating: /content/CORD-19/Kaggle/target_tables/unsorted_tables/risk_factors/Heart Disease.csv  \n",
            "  inflating: /content/CORD-19/Kaggle/target_tables/unsorted_tables/risk_factors/Heart Failure.csv  \n",
            "  inflating: /content/CORD-19/Kaggle/target_tables/unsorted_tables/risk_factors/Hypertension.csv  \n",
            "  inflating: /content/CORD-19/Kaggle/target_tables/unsorted_tables/risk_factors/Immune system disorders.csv  \n",
            "  inflating: /content/CORD-19/Kaggle/target_tables/unsorted_tables/risk_factors/Male gender.csv  \n",
            "  inflating: /content/CORD-19/Kaggle/target_tables/unsorted_tables/risk_factors/Overweight or obese.csv  \n",
            "  inflating: /content/CORD-19/Kaggle/target_tables/unsorted_tables/risk_factors/Respiratory system diseases.csv  \n",
            "  inflating: /content/CORD-19/Kaggle/target_tables/unsorted_tables/risk_factors/Smoking Status.csv  \n",
            "  inflating: /content/CORD-19/cord_19_embeddings/cord_19_embeddings_2020-05-19.csv  "
          ],
          "name": "stdout"
        }
      ]
    },
    {
      "cell_type": "code",
      "metadata": {
        "id": "7qGt8HZ747rb",
        "colab_type": "code",
        "colab": {}
      },
      "source": [
        "!ls /content/CORD-19"
      ],
      "execution_count": 0,
      "outputs": []
    },
    {
      "cell_type": "markdown",
      "metadata": {
        "id": "GYKV0YYTV-Nf",
        "colab_type": "text"
      },
      "source": [
        "## Installing and Importing Libraries "
      ]
    },
    {
      "cell_type": "code",
      "metadata": {
        "id": "h3ffyVHTwXd-",
        "colab_type": "code",
        "colab": {}
      },
      "source": [
        "!pip install requests\n",
        "!pip install beautifulsoup4\n",
        "!pip install scispacy"
      ],
      "execution_count": 0,
      "outputs": []
    },
    {
      "cell_type": "code",
      "metadata": {
        "colab_type": "code",
        "id": "_cSuD-TGzwk4",
        "colab": {}
      },
      "source": [
        "import requests\n",
        "import seaborn as sn\n",
        "import bs4\n",
        "import csv\n",
        "import tensorflow as tf\n",
        "import pandas as pd \n",
        "import numpy as np\n",
        "import glob\n",
        "import json\n",
        "import matplotlib.pyplot as plt\n",
        "\n",
        "plt.style.use('ggplot')"
      ],
      "execution_count": 0,
      "outputs": []
    },
    {
      "cell_type": "code",
      "metadata": {
        "id": "gnWgTpxyXxTl",
        "colab_type": "code",
        "colab": {}
      },
      "source": [
        "#|tf.test.gpu_device_name() # is GPU enabled \n",
        "# Looks like pandas does not get accelerated with GPU"
      ],
      "execution_count": 0,
      "outputs": []
    },
    {
      "cell_type": "markdown",
      "metadata": {
        "id": "QWZzOlcLWOvK",
        "colab_type": "text"
      },
      "source": [
        "## Load MetaData\n",
        "Provides the schema and information from the metadata csv."
      ]
    },
    {
      "cell_type": "code",
      "metadata": {
        "id": "7QKMNLoH0p-j",
        "colab_type": "code",
        "colab": {}
      },
      "source": [
        "root_path = '/content/CORD-19/'\n",
        "metadata_path = f'{root_path}/metadata.csv'\n",
        "meta_df = pd.read_csv(metadata_path, dtype={\n",
        "    'pubmed_id': str,\n",
        "    'Microsoft Academic Paper ID': str, \n",
        "    'doi': str\n",
        "})\n",
        "\n",
        "meta_df.head()"
      ],
      "execution_count": 0,
      "outputs": []
    },
    {
      "cell_type": "code",
      "metadata": {
        "id": "xgGd06hBXOvr",
        "colab_type": "code",
        "colab": {}
      },
      "source": [
        "meta_df.info()"
      ],
      "execution_count": 0,
      "outputs": []
    },
    {
      "cell_type": "markdown",
      "metadata": {
        "id": "Ts8ZjSN_XX0c",
        "colab_type": "text"
      },
      "source": [
        "## Load JSON"
      ]
    },
    {
      "cell_type": "code",
      "metadata": {
        "id": "BlNfgxhI05Zq",
        "colab_type": "code",
        "colab": {}
      },
      "source": [
        "all_json = glob.glob(f'{root_path}/**/*.json', recursive=True)\n",
        "len(all_json)"
      ],
      "execution_count": 0,
      "outputs": []
    },
    {
      "cell_type": "markdown",
      "metadata": {
        "id": "HZ9NEXxnXzIe",
        "colab_type": "text"
      },
      "source": [
        "## Helper Function\n",
        "This class reads the file and converts to an instance of the filereader class."
      ]
    },
    {
      "cell_type": "code",
      "metadata": {
        "id": "WC5iLUci_cuW",
        "colab_type": "code",
        "colab": {}
      },
      "source": [
        "class FileReader:\n",
        "    def __init__(self, file_path):\n",
        "        with open(file_path) as file:\n",
        "            content = json.load(file)\n",
        "            self.paper_id = content['paper_id']\n",
        "            self.abstract = []\n",
        "            self.body_text = []\n",
        "            # Abstract\n",
        "            for entry in content['abstract']:\n",
        "                self.abstract.append(entry['text'])\n",
        "            # Body text\n",
        "            for entry in content['body_text']:\n",
        "                self.body_text.append(entry['text'])\n",
        "            self.abstract = '\\n'.join(self.abstract)\n",
        "            self.body_text = '\\n'.join(self.body_text)\n",
        "    def __repr__(self):\n",
        "        return f'{self.paper_id}: {self.abstract[:200]}... {self.body_text[:200]}...'\n",
        "# first_row = FileReader(all_json[0])\n",
        "# first_row"
      ],
      "execution_count": 0,
      "outputs": []
    },
    {
      "cell_type": "code",
      "metadata": {
        "id": "spRo7_Fl_lL-",
        "colab_type": "code",
        "colab": {}
      },
      "source": [
        "def get_breaks(content, length):\n",
        "    data = \"\"\n",
        "    words = content.split(' ')\n",
        "    total_chars = 0\n",
        "\n",
        "    # add break every length characters\n",
        "    for i in range(len(words)):\n",
        "        total_chars += len(words[i])\n",
        "        if total_chars > length:\n",
        "            data = data + \"<br>\" + words[i]\n",
        "            total_chars = 0\n",
        "        else:\n",
        "            data = data + \" \" + words[i]\n",
        "    return data"
      ],
      "execution_count": 0,
      "outputs": []
    },
    {
      "cell_type": "code",
      "metadata": {
        "id": "iBhueiLn020d",
        "colab_type": "code",
        "colab": {}
      },
      "source": [
        "FileReader(all_json[1])"
      ],
      "execution_count": 0,
      "outputs": []
    },
    {
      "cell_type": "markdown",
      "metadata": {
        "id": "hWmYV_SdYhva",
        "colab_type": "text"
      },
      "source": [
        "## Build DataFrame from JSON"
      ]
    },
    {
      "cell_type": "code",
      "metadata": {
        "id": "AEfiSNi4_rRh",
        "colab_type": "code",
        "colab": {}
      },
      "source": [
        "dict_ = {'paper_id': [], 'doi':[], 'abstract': [], 'body_text': [], 'authors': [], 'title': [], 'journal': [], 'abstract_summary': []}\n",
        "for idx, entry in enumerate(all_json):\n",
        "    if idx > 10:\n",
        "      break\n",
        "    # if idx % (len(all_json) // 10) == 0:\n",
        "    #     print(f'Processing index: {idx} of {len(all_json)}')\n",
        "    \n",
        "    try:\n",
        "        content = FileReader(entry)\n",
        "    except Exception as e:\n",
        "        continue  # invalid paper format, skip\n",
        "    \n",
        "    # get metadata information\n",
        "    meta_data = meta_df.loc[meta_df['sha'] == content.paper_id]\n",
        "    # no metadata, skip this paper\n",
        "    if len(meta_data) == 0:\n",
        "        continue\n",
        "    \n",
        "    dict_['abstract'].append(content.abstract)\n",
        "    dict_['paper_id'].append(content.paper_id)\n",
        "    dict_['body_text'].append(content.body_text)\n",
        "    \n",
        "    # also create a column for the summary of abstract to be used in a plot\n",
        "    if len(content.abstract) == 0: \n",
        "        # no abstract provided\n",
        "        dict_['abstract_summary'].append(\"Not provided.\")\n",
        "    elif len(content.abstract.split(' ')) > 100:\n",
        "        # abstract provided is too long for plot, take first 100 words append with ...\n",
        "        info = content.abstract.split(' ')[:100]\n",
        "        summary = get_breaks(' '.join(info), 40)\n",
        "        dict_['abstract_summary'].append(summary + \"...\")\n",
        "    else:\n",
        "        # abstract is short enough\n",
        "        summary = get_breaks(content.abstract, 40)\n",
        "        dict_['abstract_summary'].append(summary)\n",
        "        \n",
        "    # get metadata information\n",
        "    meta_data = meta_df.loc[meta_df['sha'] == content.paper_id]\n",
        "    \n",
        "    try:\n",
        "        # if more than one author\n",
        "        authors = meta_data['authors'].values[0].split(';')\n",
        "        if len(authors) > 2:\n",
        "            # if more than 2 authors, take them all with html tag breaks in between\n",
        "            dict_['authors'].append(get_breaks('. '.join(authors), 40))\n",
        "        else:\n",
        "            # authors will fit in plot\n",
        "            dict_['authors'].append(\". \".join(authors))\n",
        "    except Exception as e:\n",
        "        # if only one author - or Null valie\n",
        "        dict_['authors'].append(meta_data['authors'].values[0])\n",
        "    \n",
        "    # add the title information, add breaks when needed\n",
        "    try:\n",
        "        title = get_breaks(meta_data['title'].values[0], 40)\n",
        "        dict_['title'].append(title)\n",
        "    # if title was not provided\n",
        "    except Exception as e:\n",
        "        dict_['title'].append(meta_data['title'].values[0])\n",
        "    \n",
        "    # add the journal information\n",
        "    dict_['journal'].append(meta_data['journal'].values[0])\n",
        "    \n",
        "    # add doi\n",
        "    dict_['doi'].append(meta_data['doi'].values[0])\n",
        "    \n",
        "df_covid = pd.DataFrame(dict_, columns=['paper_id', 'doi', 'abstract', 'body_text', 'authors', 'title', 'journal', 'abstract_summary'])\n",
        "df_covid.head()"
      ],
      "execution_count": 0,
      "outputs": []
    },
    {
      "cell_type": "markdown",
      "metadata": {
        "id": "IRgMRgTVKfxF",
        "colab_type": "text"
      },
      "source": [
        "### Feature Engineering\n",
        "Adding word count columns for both abstract and body_text can be useful parameters later."
      ]
    },
    {
      "cell_type": "code",
      "metadata": {
        "id": "wpgp9ffbACF9",
        "colab_type": "code",
        "colab": {}
      },
      "source": [
        "df_covid['abstract_word_count'] = df_covid['abstract'].apply(lambda x: len(x.strip().split()))  # word count in abstract\n",
        "df_covid['body_word_count'] = df_covid['body_text'].apply(lambda x: len(x.strip().split()))  # word count in body\n",
        "df_covid['body_unique_words']=df_covid['body_text'].apply(lambda x:len(set(str(x).split())))  # number of unique words in body\n",
        "df_covid.head()"
      ],
      "execution_count": 0,
      "outputs": []
    },
    {
      "cell_type": "code",
      "metadata": {
        "id": "kp5GW62cZLMM",
        "colab_type": "code",
        "colab": {}
      },
      "source": [
        "df_covid.info()"
      ],
      "execution_count": 0,
      "outputs": []
    },
    {
      "cell_type": "code",
      "metadata": {
        "id": "jxuCSaO6ZRjy",
        "colab_type": "code",
        "colab": {}
      },
      "source": [
        "df_covid['abstract'].describe(include='all')"
      ],
      "execution_count": 0,
      "outputs": []
    },
    {
      "cell_type": "code",
      "metadata": {
        "id": "0sLYt7ROZzh6",
        "colab_type": "code",
        "colab": {}
      },
      "source": [
        "df_covid['body_text'].describe(include='all')"
      ],
      "execution_count": 0,
      "outputs": []
    },
    {
      "cell_type": "markdown",
      "metadata": {
        "id": "fAb0Kv5xKprE",
        "colab_type": "text"
      },
      "source": [
        "### Handle Duplicates"
      ]
    },
    {
      "cell_type": "code",
      "metadata": {
        "id": "p__cqoMZKtMm",
        "colab_type": "code",
        "colab": {}
      },
      "source": [
        "df_covid.drop_duplicates(['abstract', 'body_text'], inplace=True)\n",
        "df_covid['abstract'].describe(include='all')"
      ],
      "execution_count": 0,
      "outputs": []
    },
    {
      "cell_type": "code",
      "metadata": {
        "id": "gClWgQIlZxQ2",
        "colab_type": "code",
        "colab": {}
      },
      "source": [
        "df_covid['body_text'].describe(include='all')"
      ],
      "execution_count": 0,
      "outputs": []
    },
    {
      "cell_type": "code",
      "metadata": {
        "id": "oaUKdDuUaDU1",
        "colab_type": "code",
        "colab": {}
      },
      "source": [
        "df_covid.head()"
      ],
      "execution_count": 0,
      "outputs": []
    },
    {
      "cell_type": "code",
      "metadata": {
        "id": "sX24LmqqZ4W_",
        "colab_type": "code",
        "colab": {}
      },
      "source": [
        "df_covid.describe()"
      ],
      "execution_count": 0,
      "outputs": []
    },
    {
      "cell_type": "markdown",
      "metadata": {
        "id": "hm0YRusRHMmu",
        "colab_type": "text"
      },
      "source": [
        "## Data Pre-Processing\n",
        "load sample data (10,000)"
      ]
    },
    {
      "cell_type": "code",
      "metadata": {
        "id": "TwaMXwohEnBk",
        "colab_type": "code",
        "colab": {}
      },
      "source": [
        "# TODO DELETE we will limit the dataframe to 9 instances\n",
        "# df = df_covid.sample(9, random_state=42)\n",
        "# del df_covid\n",
        "df_covid.head()"
      ],
      "execution_count": 0,
      "outputs": []
    },
    {
      "cell_type": "code",
      "metadata": {
        "id": "D4M32hT2FlMr",
        "colab_type": "code",
        "colab": {}
      },
      "source": [
        ""
      ],
      "execution_count": 0,
      "outputs": []
    },
    {
      "cell_type": "markdown",
      "metadata": {
        "id": "O0HMQVffF2Xa",
        "colab_type": "text"
      },
      "source": [
        "### Data Clean-Up\n",
        "\n",
        "we need to clean-up the data to improve any clustering or classification efforts. "
      ]
    },
    {
      "cell_type": "code",
      "metadata": {
        "id": "mQSgEHPAFwbR",
        "colab_type": "code",
        "colab": {}
      },
      "source": [
        "# drop NULL value\n",
        "df.dropna(inplace=True)\n",
        "df.info()"
      ],
      "execution_count": 0,
      "outputs": []
    },
    {
      "cell_type": "markdown",
      "metadata": {
        "id": "G0LOUZRjHyyb",
        "colab_type": "text"
      },
      "source": [
        "### Languages\n",
        "we need to determine the language of each paper in the dataframe. "
      ]
    },
    {
      "cell_type": "code",
      "metadata": {
        "id": "iHNSCbp-IQiZ",
        "colab_type": "code",
        "colab": {}
      },
      "source": [
        "!pip install langdetect "
      ],
      "execution_count": 0,
      "outputs": []
    },
    {
      "cell_type": "code",
      "metadata": {
        "id": "X31_gpnzGkOZ",
        "colab_type": "code",
        "colab": {}
      },
      "source": [
        "from tqdm import tqdm\n",
        "from langdetect import detect, DetectorFactory\n",
        "\n",
        "# set seed\n",
        "DetectorFactory.seed = 0\n",
        "\n",
        "# hold label - language\n",
        "languages = []\n",
        "\n",
        "# go through each text\n",
        "for ii in tqdm(range(0,len(df))):\n",
        "    # split by space into list, take the first x intex, join with space\n",
        "    text = df.iloc[ii]['body_text'].split(\" \")\n",
        "    \n",
        "    lang = \"en\"\n",
        "    try:\n",
        "        if len(text) > 50:\n",
        "            lang = detect(\" \".join(text[:50]))\n",
        "        elif len(text) > 0:\n",
        "            lang = detect(\" \".join(text[:len(text)]))\n",
        "    # ught... beginning of the document was not in a good format\n",
        "    except Exception as e:\n",
        "        all_words = set(text)\n",
        "        try:\n",
        "            lang = detect(\" \".join(all_words))\n",
        "        # what!! :( let's see if we can find any text in abstract...\n",
        "        except Exception as e:\n",
        "            \n",
        "            try:\n",
        "                # let's try to label it through the abstract then\n",
        "                lang = detect(df.iloc[ii]['abstract_summary'])\n",
        "            except Exception as e:\n",
        "                lang = \"unknown\"\n",
        "                pass\n",
        "    \n",
        "    # get the language    \n",
        "    languages.append(lang)"
      ],
      "execution_count": 0,
      "outputs": []
    },
    {
      "cell_type": "code",
      "metadata": {
        "id": "9XwnnIjiIxzK",
        "colab_type": "code",
        "colab": {}
      },
      "source": [
        "from pprint import pprint\n",
        "\n",
        "languages_dict = {}\n",
        "for lang in set(languages):\n",
        "    languages_dict[lang] = languages.count(lang)\n",
        "    \n",
        "print(\"Total: {}\\n\".format(len(languages)))\n",
        "pprint(languages_dict)"
      ],
      "execution_count": 0,
      "outputs": []
    },
    {
      "cell_type": "code",
      "metadata": {
        "id": "m8zu3OLQRoS9",
        "colab_type": "code",
        "colab": {}
      },
      "source": [
        "df['language'] = languages\n",
        "plt.bar(range(len(languages_dict)), list(languages_dict.values()), align='center')\n",
        "plt.xticks(range(len(languages_dict)), list(languages_dict.keys()))\n",
        "plt.title(\"Distribution of Languages in Dataset\")\n",
        "plt.show()"
      ],
      "execution_count": 0,
      "outputs": []
    },
    {
      "cell_type": "markdown",
      "metadata": {
        "id": "FevsuGUXjDJb",
        "colab_type": "text"
      },
      "source": [
        "We will be dropping any language that is not English. "
      ]
    },
    {
      "cell_type": "code",
      "metadata": {
        "id": "CjvrdZ-diohO",
        "colab_type": "code",
        "colab": {}
      },
      "source": [
        "df = df[df['language'] == 'en'] \n",
        "df.info()"
      ],
      "execution_count": 0,
      "outputs": []
    },
    {
      "cell_type": "code",
      "metadata": {
        "id": "5fXfmCvQjTQT",
        "colab_type": "code",
        "colab": {}
      },
      "source": [
        "# Download the spacy bio parser\n",
        "\n",
        "from IPython.utils import io\n",
        "with io.capture_output() as captured:\n",
        "    # !pip install https://s3-us-west-2.amazonaws.com/ai2-s2-scispacy/releases/v0.2.4/en_core_sci_lg-0.2.4.tar.gz\n",
        "    !pip install https://s3-us-west-2.amazonaws.com/ai2-s2-scispacy/releases/v0.2.4/en_core_sci_sm-0.2.4.tar.gz"
      ],
      "execution_count": 0,
      "outputs": []
    },
    {
      "cell_type": "code",
      "metadata": {
        "id": "2v_CjUL8jeCk",
        "colab_type": "code",
        "colab": {}
      },
      "source": [
        "#NLP \n",
        "import spacy\n",
        "from spacy.lang.en.stop_words import STOP_WORDS\n",
        "# import en_core_sci_lg  # model downloaded in previous step\n",
        "import en_core_sci_sm"
      ],
      "execution_count": 0,
      "outputs": []
    },
    {
      "cell_type": "markdown",
      "metadata": {
        "id": "J06Msgdxjlbl",
        "colab_type": "text"
      },
      "source": [
        "Part of the preprocessing will be finding and removing stopwords (common words that will act as noise in the clustering step)."
      ]
    },
    {
      "cell_type": "code",
      "metadata": {
        "id": "UVCJiJcgjnQ-",
        "colab_type": "code",
        "colab": {}
      },
      "source": [
        "import string\n",
        "\n",
        "punctuations = string.punctuation\n",
        "stopwords = list(STOP_WORDS)\n",
        "stopwords[:10]"
      ],
      "execution_count": 0,
      "outputs": []
    },
    {
      "cell_type": "markdown",
      "metadata": {
        "id": "WGz8OCtbj6Vw",
        "colab_type": "text"
      },
      "source": [
        "Now the above stopwords are used in everyday english text. Research papers will often frequently use words that don't actually contribute to the meaning and are not considered everyday stopwords"
      ]
    },
    {
      "cell_type": "code",
      "metadata": {
        "id": "QBlkLU7oj5Uo",
        "colab_type": "code",
        "colab": {}
      },
      "source": [
        "custom_stop_words = [\n",
        "    'doi', 'preprint', 'copyright', 'peer', 'reviewed', 'org', 'https', 'et', 'al', 'author', 'figure', \n",
        "    'rights', 'reserved', 'permission', 'used', 'using', 'biorxiv', 'medrxiv', 'license', 'fig', 'fig.', \n",
        "    'al.', 'Elsevier', 'PMC', 'CZI', 'www'\n",
        "]\n",
        "\n",
        "for w in custom_stop_words:\n",
        "    if w not in stopwords:\n",
        "        stopwords.append(w)"
      ],
      "execution_count": 0,
      "outputs": []
    },
    {
      "cell_type": "markdown",
      "metadata": {
        "id": "MUr6_9vGkL4K",
        "colab_type": "text"
      },
      "source": [
        "The parser function will convert text to lower case, remove punctuation, and find and remove stopwords. \n",
        "This is a model for processing biomedical, scientific or clinical text."
      ]
    },
    {
      "cell_type": "code",
      "metadata": {
        "id": "nLzRy17PkKEM",
        "colab_type": "code",
        "colab": {}
      },
      "source": [
        "# Parser\n",
        "parser = en_core_sci_sm.load(disable=[\"tagger\", \"ner\"])\n",
        "parser.max_length = 7000000\n",
        "\n",
        "def spacy_tokenizer(sentence):\n",
        "    mytokens = parser(sentence)\n",
        "    mytokens = [ word.lemma_.lower().strip() if word.lemma_ != \"-PRON-\" else word.lower_ for word in mytokens ]\n",
        "    mytokens = [ word for word in mytokens if word not in stopwords and word not in punctuations ]\n",
        "    mytokens = \" \".join([i for i in mytokens])\n",
        "    return mytokens"
      ],
      "execution_count": 0,
      "outputs": []
    },
    {
      "cell_type": "code",
      "metadata": {
        "id": "HMime9pZ0N6O",
        "colab_type": "code",
        "colab": {}
      },
      "source": [
        "from sklearn.feature_extraction.text import TfidfVectorizer\n",
        "def vectorize(text, maxx_features):\n",
        "    \n",
        "    vectorizer = TfidfVectorizer(max_features=maxx_features)\n",
        "    X = vectorizer.fit_transform(text)\n",
        "    return X\n"
      ],
      "execution_count": 0,
      "outputs": []
    },
    {
      "cell_type": "code",
      "metadata": {
        "id": "RY-UPTHp0s3q",
        "colab_type": "code",
        "colab": {}
      },
      "source": [
        "body_text_sample_df = df[\"body_text\"].head(2000)\n",
        "print(body_text_sample_df)\n",
        "abstract_sample_df = df['abstract'].head(2000)\n",
        "print(abstract_sample_df)"
      ],
      "execution_count": 0,
      "outputs": []
    },
    {
      "cell_type": "code",
      "metadata": {
        "id": "lZSgDL38k-Em",
        "colab_type": "code",
        "colab": {}
      },
      "source": [
        "tqdm.pandas()\n",
        "# df[\"processed_text\"] = df[\"body_text\"].progress_apply(spacy_tokenizer)\n",
        "df[\"processed_body_text_sample\"] = body_text_sample_df.progress_apply(spacy_tokenizer)\n",
        "df[\"processed_abstract_sample\"] = abstract_sample_df.progress_apply(spacy_tokenizer)"
      ],
      "execution_count": 0,
      "outputs": []
    },
    {
      "cell_type": "code",
      "metadata": {
        "id": "sHG6FzUvQBf7",
        "colab_type": "code",
        "colab": {}
      },
      "source": [
        "!pip install scispacy"
      ],
      "execution_count": 0,
      "outputs": []
    },
    {
      "cell_type": "code",
      "metadata": {
        "id": "r8lAC5qj5DRu",
        "colab_type": "code",
        "colab": {}
      },
      "source": [
        "import en_core_web_sm\n",
        "nlp = en_core_web_sm.load()"
      ],
      "execution_count": 0,
      "outputs": []
    },
    {
      "cell_type": "code",
      "metadata": {
        "id": "3ese9nxBLkqz",
        "colab_type": "code",
        "colab": {}
      },
      "source": [
        "!pip install https://s3-us-west-2.amazonaws.com/ai2-s2-scispacy/releases/v0.2.4/en_core_sci_sm-0.2.4.tar.gz\n",
        "import scispacy\n",
        "import spacy\n",
        "import en_core_sci_sm\n",
        "\n",
        "nlp = en_core_web_sm.load()\n",
        "text = \"\"\"\n",
        "Myeloid derived suppressor cells (MDSC) are immature \n",
        "myeloid cells with immunosuppressive activity. \n",
        "They accumulate in tumor-bearing mice and humans \n",
        "with different types of cancer, including hepatocellular \n",
        "carcinoma (HCC).\n",
        "\"\"\"\n",
        "doc = nlp(text)\n",
        "\n",
        "print(list(doc.sents))\n",
        "\n",
        "# Examine the entities extracted by the mention detector.\n",
        "# Note that they don't have types like in SpaCy, and they\n",
        "# are more general (e.g including verbs) - these are any\n",
        "# spans which might be an entity in UMLS, a large\n",
        "# biomedical database.\n",
        "print(doc.ents)\n",
        "\n",
        "\n",
        "# We can also visualise dependency parses\n",
        "# (This renders automatically inside a jupyter notebook!):\n",
        "from spacy import displacy\n",
        "displacy.render(next(doc.sents), style='dep', jupyter=True)\n"
      ],
      "execution_count": 0,
      "outputs": []
    },
    {
      "cell_type": "code",
      "metadata": {
        "id": "VxpPofA5QeGZ",
        "colab_type": "code",
        "colab": {}
      },
      "source": [
        "df"
      ],
      "execution_count": 0,
      "outputs": []
    },
    {
      "cell_type": "code",
      "metadata": {
        "id": "hC4rmVGZRjP_",
        "colab_type": "code",
        "colab": {}
      },
      "source": [
        "df[\"processed_body_text_sample\"]"
      ],
      "execution_count": 0,
      "outputs": []
    },
    {
      "cell_type": "code",
      "metadata": {
        "id": "Ni0Fz7joJYqQ",
        "colab_type": "code",
        "colab": {}
      },
      "source": [
        "# from spacy.lang.en import English\n",
        "# nlp = English()\n",
        "# !pip install https://s3-us-west-2.amazonaws.com/ai2-s2-scispacy/releases/v0.2.4/en_core_sci_sm-0.2.4.tar.gz\n",
        "\n",
        "# !pip install scispacy\n",
        "# import scispacy\n",
        "# import spacy\n",
        "\n",
        "# nlp = spacy.load(\"en_core_sci_sm\")\n",
        "\n",
        "processed_body_text = nlp(df[\"processed_body_text_sample\"][7])\n",
        "print(processed_body_text)\n",
        "\n",
        "# processed_abstract = nlp('positive-stranded rna rna virus exploit host cell machinery subvert')\n",
        "# print(processed_abstract)\n"
      ],
      "execution_count": 0,
      "outputs": []
    },
    {
      "cell_type": "code",
      "metadata": {
        "id": "yZvyIifqSlzj",
        "colab_type": "code",
        "colab": {}
      },
      "source": [
        "# python -m spacy download en_core_web_sm\n",
        "# nlp2 = spacy.load(\"en_core_sci_sm\")\n",
        "# df[\"processed_abstract_sample\"][1704]\n",
        "\n",
        "smoking_synonyms = ['smoking',\n",
        "                    'smoke',\n",
        "                    'cigar', # this picks up cigar, cigarette, e-cigarette, etc.\n",
        "                    'nicotine',\n",
        "                    'cannabis',\n",
        "                    'marijuana']\n",
        "\n",
        "COL = {'token1','token2','similarity'}\n",
        "# tokenSimilarity = pd.DataFrame(columns=COL)\n",
        "\n",
        "# processed_body_text\n",
        "\n",
        "smoking_synonyms_tokens = nlp(' '.join(smoking_synonyms))\n",
        "\n",
        "d = []\n",
        "\n",
        "for token1 in smoking_synonyms_tokens:\n",
        "    for token2 in processed_body_text:\n",
        "      if token1 != token2:\n",
        "        similarity = token1.similarity(token2)\n",
        "\n",
        "        if (similarity is not None and similarity > 0.5  and similarity < 1):\n",
        "          d.append(\n",
        "            {'token1': token1.text, 'token2': token2.text, 'similarity': similarity})\n",
        "\n",
        "# smoking_synonyms_tokens_df = pd.DataFrame(d)\n",
        "# smoking_synonyms_tokens_df\n",
        "\n",
        "        # tokenSimilarity \n",
        "        # tokenSimilarity.append(  token1.text , token2.text , similarity)\n",
        "        # print(token1.text, token2.text)\n",
        "\n",
        "# doc = nlp3(text)\n",
        "\n",
        "# print(list(doc.sents))\n",
        "\n",
        "# # Examine the entities extracted by the mention detector.\n",
        "# # Note that they don't have types like in SpaCy, and they\n",
        "# # are more general (e.g including verbs) - these are any\n",
        "# # spans which might be an entity in UMLS, a large\n",
        "# # biomedical database.\n",
        "# print(doc.ents)\n",
        "\n",
        "\n",
        "# # We can also visualise dependency parses\n",
        "# # (This renders automatically inside a jupyter notebook!):\n",
        "# from spacy import displacy\n",
        "# displacy.render(next(doc.sents), style='dep', jupyter=True)"
      ],
      "execution_count": 0,
      "outputs": []
    },
    {
      "cell_type": "code",
      "metadata": {
        "id": "PkR05-ueUHHJ",
        "colab_type": "code",
        "colab": {}
      },
      "source": [
        "token_df = pd.DataFrame(d)\n",
        "token_df"
      ],
      "execution_count": 0,
      "outputs": []
    },
    {
      "cell_type": "code",
      "metadata": {
        "id": "pYYgIoFchd0N",
        "colab_type": "code",
        "colab": {}
      },
      "source": [
        "token_df.similarity"
      ],
      "execution_count": 0,
      "outputs": []
    },
    {
      "cell_type": "code",
      "metadata": {
        "id": "364Tk8J_fQI_",
        "colab_type": "code",
        "colab": {}
      },
      "source": [
        "\n",
        "token_df['similarity_max'] = token_df.groupby(['token1'])['similarity'].transform(max)\n",
        "\n"
      ],
      "execution_count": 0,
      "outputs": []
    },
    {
      "cell_type": "code",
      "metadata": {
        "id": "Ig6Sv5eTjac5",
        "colab_type": "code",
        "colab": {}
      },
      "source": [
        "index = token_df.groupby(['token1'])['similarity'].transform(max) == token_df['similarity']\n",
        "token_df[index]\n"
      ],
      "execution_count": 0,
      "outputs": []
    },
    {
      "cell_type": "code",
      "metadata": {
        "id": "S8rf7HTTDWg-",
        "colab_type": "code",
        "colab": {}
      },
      "source": [
        "# !pip install https://s3-us-west-2.amazonaws.com/ai2-s2-scispacy/releases/v0.2.4/en_core_sci_sm-0.2.4.tar.gz\n",
        "import en_core_sci_sm\n",
        "nlp = en_core_web_sm.load()\n",
        "text = \"\"\"\n",
        "Myeloid derived suppressor cells (MDSC) are immature \n",
        "myeloid cells with immunosuppressive activity. \n",
        "They accumulate in tumor-bearing mice and humans \n",
        "with different types of cancer, including hepatocellular \n",
        "carcinoma (HCC).\n",
        "\"\"\"\n",
        "doc = nlp(text)\n",
        "\n",
        "print(list(doc.sents))\n",
        "\n",
        "# Examine the entities extracted by the mention detector.\n",
        "# Note that they don't have types like in SpaCy, and they\n",
        "# are more general (e.g including verbs) - these are any\n",
        "# spans which might be an entity in UMLS, a large\n",
        "# biomedical database.\n",
        "print(doc.ents)\n",
        "\n",
        "\n",
        "# We can also visualise dependency parses\n",
        "# (This renders automatically inside a jupyter notebook!):\n",
        "from spacy import displacy\n",
        "displacy.render(next(doc.sents), style='dep', jupyter=True, options={'compact':True})\n"
      ],
      "execution_count": 0,
      "outputs": []
    },
    {
      "cell_type": "code",
      "metadata": {
        "id": "NYOY30IY4moB",
        "colab_type": "code",
        "colab": {}
      },
      "source": [
        "body_text_sample = body_text_sample_df.values\n",
        "abstract_sample = abstract_sample_df.values\n",
        "X1 = vectorize(body_text_sample, 2 ** 12)\n",
        "X2 = vectorize(abstract_sample, 2 ** 12)\n",
        "print(X1[0])\n",
        "print(X2[0])"
      ],
      "execution_count": 0,
      "outputs": []
    },
    {
      "cell_type": "code",
      "metadata": {
        "id": "YcJXiKzl3jVw",
        "colab_type": "code",
        "colab": {}
      },
      "source": [
        "from sklearn.decomposition import PCA\n",
        "\n",
        "pca = PCA(.90)\n",
        "X1_reduced= pca.fit_transform(X1.toarray())\n",
        "print(X1_reduced.shape)\n",
        "X2_reduced= pca.fit_transform(X2.toarray())\n",
        "print(X2_reduced.shape)\n"
      ],
      "execution_count": 0,
      "outputs": []
    },
    {
      "cell_type": "code",
      "metadata": {
        "id": "tRJycUJV1l0C",
        "colab_type": "code",
        "colab": {}
      },
      "source": [
        "from sklearn import metrics\n",
        "from scipy.spatial.distance import cdist\n",
        "from sklearn.cluster import KMeans\n",
        "\n",
        "# run kmeans with many different k\n",
        "distortions_X1 = []\n",
        "K = range(2, len(X1_reduced[0]-1))\n",
        "for k in K:\n",
        "  k_means = KMeans(n_clusters=k, random_state=42).fit(X1_reduced)\n",
        "  k_means.fit(X1_reduced)\n",
        "  distortions_X1.append(sum(np.min(cdist(X1_reduced, k_means.cluster_centers_, 'cosine'), axis=1)) / X1.shape[0])\n",
        "  # print('Found distortion for {} clusters'.format(k))\n",
        "print(len(distortions_X1))\n",
        "print(K[-1])"
      ],
      "execution_count": 0,
      "outputs": []
    },
    {
      "cell_type": "code",
      "metadata": {
        "id": "dirKJ3axINMV",
        "colab_type": "code",
        "colab": {}
      },
      "source": [
        "distortions_X2 = []\n",
        "K = range(2, len(X2_reduced[0]-1))\n",
        "for k in K:\n",
        "    k_means = KMeans(n_clusters=k, random_state=42).fit(X2_reduced)\n",
        "    k_means.fit(X2_reduced)\n",
        "    distortions_X2.append(sum(np.min(cdist(X2_reduced, k_means.cluster_centers_, 'cosine'), axis=1)) / X2.shape[0])\n",
        "    # print('Found distortion for {} clusters'.format(k))\n",
        "len(K)"
      ],
      "execution_count": 0,
      "outputs": []
    },
    {
      "cell_type": "code",
      "metadata": {
        "id": "ivDuBhVS3YH0",
        "colab_type": "code",
        "colab": {}
      },
      "source": [
        "# X_line = [K[0], K[-1]]\n",
        "# Y_line = [distortions_X1[0], distortions_X1[-1]]\n",
        "\n",
        "# # Plot the elbow\n",
        "# plt.plot(K, distortions_X1, 'b-')\n",
        "# plt.plot(X_line, Y_line, 'r')\n",
        "# plt.xlabel('k')\n",
        "# plt.ylabel('Distortion')\n",
        "# plt.title('The Elbow Method showing the optimal k BODY TEXT')\n",
        "# plt.show()"
      ],
      "execution_count": 0,
      "outputs": []
    },
    {
      "cell_type": "code",
      "metadata": {
        "id": "CXP1I3CsIat4",
        "colab_type": "code",
        "colab": {}
      },
      "source": [
        "X_line = [K[0], K[-1]]\n",
        "Y_line = [distortions_X2[0], distortions_X2[-1]]\n",
        "\n",
        "# Plot the elbow\n",
        "plt.plot(K, distortions_X2, 'b-')\n",
        "plt.plot(X_line, Y_line, 'r')\n",
        "plt.xlabel('k')\n",
        "plt.ylabel('Distortion')\n",
        "plt.title('The Elbow Method showing the optimal k - ABSTRACT')\n",
        "plt.show()"
      ],
      "execution_count": 0,
      "outputs": []
    },
    {
      "cell_type": "code",
      "metadata": {
        "id": "y-5S2Svb0U5n",
        "colab_type": "code",
        "colab": {}
      },
      "source": [
        ""
      ],
      "execution_count": 0,
      "outputs": []
    },
    {
      "cell_type": "code",
      "metadata": {
        "id": "L_9_kVBR2qzC",
        "colab_type": "code",
        "colab": {}
      },
      "source": [
        "from sklearn.manifold import TSNE\n",
        "\n",
        "tsne = TSNE(verbose=1, perplexity=100, random_state=42)\n",
        "X1_embedded = tsne.fit_transform(X1.toarray())\n",
        "X2_embedded = tsne.fit_transform(X2.toarray())"
      ],
      "execution_count": 0,
      "outputs": []
    },
    {
      "cell_type": "code",
      "metadata": {
        "id": "5QCBE_pY7FC7",
        "colab_type": "code",
        "colab": {}
      },
      "source": [
        "k1 = 7\n",
        "kmeans = KMeans(n_clusters=k1, random_state=42)\n",
        "y1_pred = kmeans.fit_predict(X1_reduced)\n",
        "y1_pred.shape"
      ],
      "execution_count": 0,
      "outputs": []
    },
    {
      "cell_type": "code",
      "metadata": {
        "id": "Y4rXhR1HVOup",
        "colab_type": "code",
        "colab": {}
      },
      "source": [
        "y1_df = pd.DataFrame(y1_pred)\n",
        "y1_df"
      ],
      "execution_count": 0,
      "outputs": []
    },
    {
      "cell_type": "code",
      "metadata": {
        "id": "-acVGenaP1Av",
        "colab_type": "code",
        "colab": {}
      },
      "source": [
        "k2 = 7\n",
        "kmeans = KMeans(n_clusters=k2, random_state=42)\n",
        "y2_pred = kmeans.fit_predict(X2_reduced)\n",
        "df['y2'] = y2_pred"
      ],
      "execution_count": 0,
      "outputs": []
    },
    {
      "cell_type": "code",
      "metadata": {
        "id": "TXWetDKm2t51",
        "colab_type": "code",
        "colab": {}
      },
      "source": [
        "# sns settings\n",
        "sn.set(rc={'figure.figsize':(13,13)})\n",
        "\n",
        "# colors\n",
        "palette = sn.color_palette(\"bright\", k1)\n",
        "\n",
        "# plot\n",
        "sn.scatterplot(X1_embedded[:,0], X1_embedded[:,1], hue=y1_pred, palette=palette)\n",
        "plt.title('t-SNE with no Labels - BODY')\n",
        "plt.savefig(\"t-sne_covid19.png\")\n",
        "plt.show()"
      ],
      "execution_count": 0,
      "outputs": []
    },
    {
      "cell_type": "code",
      "metadata": {
        "id": "hyUJGK51QAFh",
        "colab_type": "code",
        "colab": {}
      },
      "source": [
        "# sns settings\n",
        "sn.set(rc={'figure.figsize':(13,13)})\n",
        "\n",
        "# colors\n",
        "palette = sn.color_palette(\"bright\", k2)\n",
        "\n",
        "# plot\n",
        "sn.scatterplot(X2_embedded[:,0], X2_embedded[:,1], hue=y2_pred, palette=palette)\n",
        "plt.title('t-SNE with no Labels - ABSTRACT')\n",
        "plt.savefig(\"t-sne_covid19.png\")\n",
        "plt.show()"
      ],
      "execution_count": 0,
      "outputs": []
    },
    {
      "cell_type": "code",
      "metadata": {
        "id": "Dd9icxAB61vX",
        "colab_type": "code",
        "colab": {}
      },
      "source": [
        "%matplotlib inline\n",
        "\n",
        "# sns settings\n",
        "sn.set(rc={'figure.figsize':(13,13)})\n",
        "\n",
        "# colors\n",
        "palette = sn.hls_palette(k1, l=.4, s=.9)\n",
        "\n",
        "# plot\n",
        "sn.scatterplot(X1_embedded[:,0], X1_embedded[:,1], hue=y1_pred, legend='full', palette=palette)\n",
        "plt.title('t-SNE with Kmeans Labels - BODY')\n",
        "plt.savefig(\"improved_cluster_tsne.png\")\n",
        "plt.show()"
      ],
      "execution_count": 0,
      "outputs": []
    },
    {
      "cell_type": "code",
      "metadata": {
        "id": "cLDtyr8kQsTA",
        "colab_type": "code",
        "colab": {}
      },
      "source": [
        "%matplotlib inline\n",
        "\n",
        "# sns settings\n",
        "sn.set(rc={'figure.figsize':(13,13)})\n",
        "\n",
        "# colors\n",
        "palette = sn.hls_palette(k2, l=.4, s=.9)\n",
        "\n",
        "# plot\n",
        "sn.scatterplot(X2_embedded[:,0], X2_embedded[:,1], hue=y2_pred, legend='full', palette=palette)\n",
        "plt.title('t-SNE with Kmeans Labels - ABSTRACT')\n",
        "plt.savefig(\"improved_cluster_tsne.png\")\n",
        "plt.show()"
      ],
      "execution_count": 0,
      "outputs": []
    },
    {
      "cell_type": "code",
      "metadata": {
        "id": "sDtSoyzXTo5s",
        "colab_type": "code",
        "colab": {}
      },
      "source": [
        "from sklearn.decomposition import LatentDirichletAllocation\n",
        "from sklearn.feature_extraction.text import CountVectorizer\n"
      ],
      "execution_count": 0,
      "outputs": []
    },
    {
      "cell_type": "code",
      "metadata": {
        "id": "ptsdEzTcTwcE",
        "colab_type": "code",
        "colab": {}
      },
      "source": [
        "vectorizers = []\n",
        "    \n",
        "for ii in range(0, 20):\n",
        "    # Creating a vectorizer\n",
        "    vectorizers.append(CountVectorizer(min_df=5, max_df=0.9, stop_words='english', lowercase=True, token_pattern='[a-zA-Z\\-][a-zA-Z\\-]{2,}'))\n",
        "vectorizers[0]"
      ],
      "execution_count": 0,
      "outputs": []
    },
    {
      "cell_type": "code",
      "metadata": {
        "id": "c_m-ZXbzXoh6",
        "colab_type": "code",
        "colab": {}
      },
      "source": [
        "vectorizer1_sample = CountVectorizer()\n",
        "vectorizer2_sample = CountVectorizer()\n",
        "print(body_text_sample)\n",
        "print(abstract_sample)\n",
        "X1_test = vectorizer1_sample.fit_transform(body_text_sample)\n",
        "X2_test = vectorizer2_sample.fit_transform(abstract_sample)\n",
        "print(vectorizer1_sample.get_feature_names())\n",
        "print(vectorizer2_sample.get_feature_names())"
      ],
      "execution_count": 0,
      "outputs": []
    },
    {
      "cell_type": "code",
      "metadata": {
        "id": "f5GzkH3F2u7q",
        "colab_type": "code",
        "colab": {}
      },
      "source": [
        "# df[\"processed_body_text_sample\"][41488]\n",
        "df[\"processed_body_text_sample\"]\n",
        "\n",
        "# processed_body_text = nlp(df[\"processed_body_text_sample\"][44048])\n",
        "# print(processed_body_text)\n",
        "\n",
        "# processed_abstract = nlp(df[\"processed_abstract_sample\"])\n",
        "# print(processed_abstract)"
      ],
      "execution_count": 0,
      "outputs": []
    },
    {
      "cell_type": "code",
      "metadata": {
        "id": "YEkEXVkKT7P8",
        "colab_type": "code",
        "colab": {}
      },
      "source": [
        "vectorized_data = []\n",
        "\n",
        "for current_cluster, cvec in enumerate(vectorizers):\n",
        "    try:\n",
        "        vectorized_data.append(cvec.fit_transform(df.loc[y1_df == current_cluster, 'processed_text']))\n",
        "    except Exception as e:\n",
        "        print(\"Not enough instances in cluster: \" + str(current_cluster))\n",
        "        vectorized_data.append(None)"
      ],
      "execution_count": 0,
      "outputs": []
    },
    {
      "cell_type": "markdown",
      "metadata": {
        "id": "ISoUUGB_k9CB",
        "colab_type": "text"
      },
      "source": [
        "Applying the text-processing function on the body_text."
      ]
    },
    {
      "cell_type": "markdown",
      "metadata": {
        "id": "cc91GkHNl5oB",
        "colab_type": "text"
      },
      "source": [
        "Let's take a look at word count in the papers"
      ]
    },
    {
      "cell_type": "code",
      "metadata": {
        "id": "wzMlvti5l8pa",
        "colab_type": "code",
        "colab": {}
      },
      "source": [
        "sn.distplot(df['body_word_count'])\n",
        "df['body_word_count'].describe()"
      ],
      "execution_count": 0,
      "outputs": []
    },
    {
      "cell_type": "code",
      "metadata": {
        "id": "dOagTvHlmArl",
        "colab_type": "code",
        "colab": {}
      },
      "source": [
        "sn.distplot(df['body_unique_words'])\n",
        "df['body_unique_words'].describe()"
      ],
      "execution_count": 0,
      "outputs": []
    },
    {
      "cell_type": "markdown",
      "metadata": {
        "id": "zGPSXEURn6pm",
        "colab_type": "text"
      },
      "source": [
        "# COVID-19 Analysis"
      ]
    },
    {
      "cell_type": "code",
      "metadata": {
        "id": "z3okaUjyg9pM",
        "colab_type": "code",
        "colab": {}
      },
      "source": [
        "import plotly.express as px\n",
        "import plotly.graph_objects as go"
      ],
      "execution_count": 0,
      "outputs": []
    },
    {
      "cell_type": "code",
      "metadata": {
        "id": "MtS2KzMnj_ip",
        "colab_type": "code",
        "colab": {}
      },
      "source": [
        "# set the dataframe\n",
        "df = meta_df\n",
        "\n",
        "def doi_url(d):\n",
        "    if d.startswith('http'):\n",
        "        return d\n",
        "    elif d.startswith('doi.org'):\n",
        "        return f'http://{d}'\n",
        "    else:\n",
        "        return f'http://doi.org/{d}'\n",
        "    \n",
        "df.doi = df.doi.fillna('').apply(doi_url)\n",
        "\n",
        "print(f'loaded DataFrame with {len(df)} records')"
      ],
      "execution_count": 0,
      "outputs": []
    },
    {
      "cell_type": "code",
      "metadata": {
        "id": "hXab4nSAY79c",
        "colab_type": "code",
        "colab": {}
      },
      "source": [
        "# Helper function for filtering df on abstract + title substring\n",
        "def abstract_title_filter(search_string):\n",
        "    return (df.abstract.str.lower().str.replace('-', ' ').str.contains(search_string, na=False) |\n",
        "            df.title.str.lower().str.replace('-', ' ').str.contains(search_string, na=False))"
      ],
      "execution_count": 0,
      "outputs": []
    },
    {
      "cell_type": "code",
      "metadata": {
        "id": "R6q7Q6yUY8HY",
        "colab_type": "code",
        "colab": {}
      },
      "source": [
        "# Helper function for Cleveland dot plot visualisation of count data\n",
        "def dotplot(input_series, title, x_label='Count', y_label='Regex'):\n",
        "    subtitle = '<br><i>Hover over dots for exact values</i>'\n",
        "    fig = go.Figure()\n",
        "    fig.add_trace(go.Scatter(\n",
        "    x=input_series.sort_values(),\n",
        "    y=input_series.sort_values().index.values,\n",
        "    marker=dict(color=\"crimson\", size=12),\n",
        "    mode=\"markers\",\n",
        "    name=\"Count\",\n",
        "    ))\n",
        "    fig.update_layout(title=f'{title}{subtitle}',\n",
        "                  xaxis_title=x_label,\n",
        "                  yaxis_title=y_label)\n",
        "    fig.show()"
      ],
      "execution_count": 0,
      "outputs": []
    },
    {
      "cell_type": "code",
      "metadata": {
        "id": "39L87p6XY8UQ",
        "colab_type": "code",
        "colab": {}
      },
      "source": [
        "# Helper function which counts synonyms and adds tag column to DF\n",
        "def count_and_tag(df: pd.DataFrame,\n",
        "                  synonym_list: list,\n",
        "                  tag_suffix: str) -> (pd.DataFrame, pd.Series):\n",
        "    counts = {}\n",
        "    df[f'tag_{tag_suffix}'] = False\n",
        "    for s in synonym_list:\n",
        "        synonym_filter = abstract_title_filter(s)\n",
        "        counts[s] = sum(synonym_filter)\n",
        "        df.loc[synonym_filter, f'tag_{tag_suffix}'] = True\n",
        "    return df, pd.Series(counts)"
      ],
      "execution_count": 0,
      "outputs": []
    },
    {
      "cell_type": "code",
      "metadata": {
        "id": "Ze5KWnB_ZDe7",
        "colab_type": "code",
        "colab": {}
      },
      "source": [
        "# Function for printing out key passage of abstract based on key terms\n",
        "def print_key_phrases(df, key_terms, n=5, chars=300):\n",
        "    for ind, item in enumerate(df[:n].itertuples()):\n",
        "        print(f'{ind+1} of {len(df)}')\n",
        "        print(item.title)\n",
        "        print('[ ' + item.doi + ' ]')\n",
        "        try:\n",
        "            i = len(item.abstract)\n",
        "            for kt in key_terms:\n",
        "                kt = kt.replace(r'\\b', '')\n",
        "                term_loc = item.abstract.lower().find(kt)\n",
        "                if term_loc != -1:\n",
        "                    i = min(i, term_loc)\n",
        "            if i < len(item.abstract):\n",
        "                print('    \"' + item.abstract[i-30:i+chars-30] + '\"')\n",
        "            else:\n",
        "                print('    \"' + item.abstract[:chars] + '\"')\n",
        "        except:\n",
        "            print('NO ABSTRACT')\n",
        "        print('---')"
      ],
      "execution_count": 0,
      "outputs": []
    },
    {
      "cell_type": "markdown",
      "metadata": {
        "id": "FHaQ1BYEhjeO",
        "colab_type": "text"
      },
      "source": [
        "# Diseases\n",
        "\n",
        "- Covid-19"
      ]
    },
    {
      "cell_type": "code",
      "metadata": {
        "id": "iu905UglhnTo",
        "colab_type": "code",
        "colab": {}
      },
      "source": [
        "covid19_synonyms = ['covid',\n",
        "                    'coronavirus disease 19',\n",
        "                    'sars cov 2', # Note that search function replaces '-' with ' '\n",
        "                    '2019 ncov',\n",
        "                    '2019ncov',\n",
        "                    r'2019 n cov\\b',\n",
        "                    r'2019n cov\\b',\n",
        "                    'ncov 2019',\n",
        "                    r'\\bn cov 2019',\n",
        "                    'coronavirus 2019',\n",
        "                    'wuhan pneumonia',\n",
        "                    'wuhan virus',\n",
        "                    'wuhan coronavirus',\n",
        "                    r'coronavirus 2\\b']"
      ],
      "execution_count": 0,
      "outputs": []
    },
    {
      "cell_type": "code",
      "metadata": {
        "id": "sOTBfSwsiB22",
        "colab_type": "code",
        "colab": {}
      },
      "source": [
        "df, covid19_counts = count_and_tag(df, covid19_synonyms, 'disease_covid19')"
      ],
      "execution_count": 0,
      "outputs": []
    },
    {
      "cell_type": "code",
      "metadata": {
        "id": "9aNOJBQviE3-",
        "colab_type": "code",
        "colab": {}
      },
      "source": [
        "covid19_counts.sort_values(ascending=False)"
      ],
      "execution_count": 0,
      "outputs": []
    },
    {
      "cell_type": "code",
      "metadata": {
        "id": "0ExxZ3ILiHs-",
        "colab_type": "code",
        "colab": {}
      },
      "source": [
        "dotplot(covid19_counts, 'Covid-19 synonyms in title / abstract metadata')"
      ],
      "execution_count": 0,
      "outputs": []
    },
    {
      "cell_type": "code",
      "metadata": {
        "id": "aLslnR-2iKmS",
        "colab_type": "code",
        "colab": {}
      },
      "source": [
        "novel_corona_filter = (abstract_title_filter('novel corona') &\n",
        "                       df.publish_time.str.startswith('2020', na=False))\n",
        "print(f'novel corona (published 2020): {sum(novel_corona_filter)}')\n",
        "df.loc[novel_corona_filter, 'tag_disease_covid19'] = True"
      ],
      "execution_count": 0,
      "outputs": []
    },
    {
      "cell_type": "code",
      "metadata": {
        "id": "4adO_khIkgxp",
        "colab_type": "code",
        "colab": {}
      },
      "source": [
        "df.tag_disease_covid19.value_counts()"
      ],
      "execution_count": 0,
      "outputs": []
    },
    {
      "cell_type": "code",
      "metadata": {
        "id": "D-UWdKSIkiay",
        "colab_type": "code",
        "colab": {}
      },
      "source": [
        "# SENSE CHECK: Confirm these all published 2020 (or missing date)\n",
        "df[df.tag_disease_covid19].publish_time.str.slice(0, 4).value_counts(dropna=False)"
      ],
      "execution_count": 0,
      "outputs": []
    },
    {
      "cell_type": "markdown",
      "metadata": {
        "id": "wfdURaLUXi1w",
        "colab_type": "text"
      },
      "source": [
        "## Risks¶\n",
        "\n",
        "Potential risk factors:\n",
        "- Generic risk factors\n",
        "- Demographic:\n",
        "  - Age \n",
        "  - Sex \n",
        "  - Bodyweight \n",
        "  - Blood type\n",
        "- Behavioural: \n",
        "  - Smoking\n",
        "\n"
      ]
    },
    {
      "cell_type": "markdown",
      "metadata": {
        "id": "Tz9C_44kaGm_",
        "colab_type": "text"
      },
      "source": [
        "## Generic risk factors\n",
        "\n",
        "Look for text that indicates that risk factors are assessed in the paper."
      ]
    },
    {
      "cell_type": "code",
      "metadata": {
        "id": "z8Q6OAXLXcjh",
        "colab_type": "code",
        "colab": {}
      },
      "source": [
        "risk_factor_synonyms = ['risk factor',\n",
        "                        'risk model',\n",
        "                        'risk by',\n",
        "                        'comorbidity',\n",
        "                        'comorbidities',\n",
        "                        'coexisting condition',\n",
        "                        'co existing condition',\n",
        "                        'clinical characteristics',\n",
        "                        'clinical features',\n",
        "                        'demographic characteristics',\n",
        "                        'demographic features',\n",
        "                        'behavioural characteristics',\n",
        "                        'behavioural features',\n",
        "                        'behavioral characteristics',\n",
        "                        'behavioral features',\n",
        "                        'predictive model',\n",
        "                        'prediction model',\n",
        "                        'univariate', # implies analysis of risk factors\n",
        "                        'multivariate', # implies analysis of risk factors\n",
        "                        'multivariable',\n",
        "                        'univariable',\n",
        "                        'odds ratio', # typically mentioned in model report\n",
        "                        'confidence interval', # typically mentioned in model report\n",
        "                        'logistic regression',\n",
        "                        'regression model',\n",
        "                        'factors predict',\n",
        "                        'factors which predict',\n",
        "                        'factors that predict',\n",
        "                        'factors associated with',\n",
        "                        'underlying disease',\n",
        "                        'underlying condition']\n",
        "df, risk_generic_counts = count_and_tag(df, risk_factor_synonyms, 'risk_generic')\n",
        "dotplot(risk_generic_counts,\n",
        "        'Count of generic risk factor indicated in title / abstract')"
      ],
      "execution_count": 0,
      "outputs": []
    },
    {
      "cell_type": "code",
      "metadata": {
        "id": "D3xZKSiEa2OQ",
        "colab_type": "code",
        "colab": {}
      },
      "source": [
        "risk_generic_counts.sort_values(ascending=False)"
      ],
      "execution_count": 0,
      "outputs": []
    },
    {
      "cell_type": "code",
      "metadata": {
        "id": "fDAyouR3a2bI",
        "colab_type": "code",
        "colab": {}
      },
      "source": [
        "n = (df.tag_disease_covid19 & df.tag_risk_generic).sum()\n",
        "print(f'There are {n} papers on Covid-19 and generic risk factors.')"
      ],
      "execution_count": 0,
      "outputs": []
    },
    {
      "cell_type": "markdown",
      "metadata": {
        "id": "xs_NBTz6a-fZ",
        "colab_type": "text"
      },
      "source": [
        "Printing out 5 examples, and key text from the Abstract."
      ]
    },
    {
      "cell_type": "code",
      "metadata": {
        "id": "GaNbDElja2fQ",
        "colab_type": "code",
        "colab": {}
      },
      "source": [
        "print_key_phrases(df[df.tag_disease_covid19 & df.tag_risk_generic],\n",
        "                  risk_factor_synonyms)"
      ],
      "execution_count": 0,
      "outputs": []
    },
    {
      "cell_type": "markdown",
      "metadata": {
        "id": "O_d1FtvYbFzi",
        "colab_type": "text"
      },
      "source": [
        "## Demographic risk factors\n",
        "\n",
        "## Age"
      ]
    },
    {
      "cell_type": "code",
      "metadata": {
        "id": "pfTnQt5ha2oZ",
        "colab_type": "code",
        "colab": {}
      },
      "source": [
        "age_synonyms = ['median age',\n",
        "                'mean age',\n",
        "                'average age',\n",
        "                'elderly',\n",
        "                r'\\baged\\b',\n",
        "                r'\\bold',\n",
        "                'young',\n",
        "                'teenager',\n",
        "                'adult',\n",
        "                'child'\n",
        "               ]\n",
        "df, age_counts = count_and_tag(df, age_synonyms, 'risk_age')\n",
        "dotplot(age_counts, 'Age synonyms in title / abstract metadata')"
      ],
      "execution_count": 0,
      "outputs": []
    },
    {
      "cell_type": "code",
      "metadata": {
        "id": "vRTjILo3a2vi",
        "colab_type": "code",
        "colab": {}
      },
      "source": [
        "age_counts.sort_values(ascending=False)"
      ],
      "execution_count": 0,
      "outputs": []
    },
    {
      "cell_type": "code",
      "metadata": {
        "id": "EZBuCNZ-a2tg",
        "colab_type": "code",
        "colab": {}
      },
      "source": [
        "n = (df.tag_disease_covid19 & df.tag_risk_age).sum()\n",
        "print(f'There are {n} papers on Covid-19 and age.')"
      ],
      "execution_count": 0,
      "outputs": []
    },
    {
      "cell_type": "markdown",
      "metadata": {
        "id": "Tu21X_dsbh97",
        "colab_type": "text"
      },
      "source": [
        "## Sex\n",
        "\n",
        "e.g. _Sex difference and smoking predisposition in patients with COVID-19_, https://doi.org/10.1016/S2213-2600(20)30117-X"
      ]
    },
    {
      "cell_type": "code",
      "metadata": {
        "id": "dOQSyz6ba2me",
        "colab_type": "code",
        "colab": {}
      },
      "source": [
        "sex_synonyms = ['sex',\n",
        "                'gender',\n",
        "                r'\\bmale\\b',\n",
        "                r'\\bfemale\\b',\n",
        "                r'\\bmales\\b',\n",
        "                r'\\bfemales\\b',\n",
        "                r'\\bmen\\b',\n",
        "                r'\\bwomen\\b'\n",
        "               ]\n",
        "df, sex_counts = count_and_tag(df, sex_synonyms, 'risk_sex')\n",
        "dotplot(sex_counts, 'Sex / gender synonyms in title / abstract metadata')"
      ],
      "execution_count": 0,
      "outputs": []
    },
    {
      "cell_type": "code",
      "metadata": {
        "id": "py7XV-81bxW-",
        "colab_type": "code",
        "colab": {}
      },
      "source": [
        "sex_counts.sort_values(ascending=False)"
      ],
      "execution_count": 0,
      "outputs": []
    },
    {
      "cell_type": "code",
      "metadata": {
        "id": "3Ky9CIVdbxfp",
        "colab_type": "code",
        "colab": {}
      },
      "source": [
        "n = (df.tag_disease_covid19 & df.tag_risk_sex).sum()\n",
        "print(f'There are {n} papers on Covid-19 and sex / gender.')"
      ],
      "execution_count": 0,
      "outputs": []
    },
    {
      "cell_type": "markdown",
      "metadata": {
        "id": "rUrMxbqkb4CU",
        "colab_type": "text"
      },
      "source": [
        "## Bodyweight\n",
        "\n",
        "Obesity and related problems (e.g. diabetes, hypertension) have been widely speculated as risk factors, e.g. _The confluence of the COVID19 pandemic with the obesity epidemic_, https://doi.org/10.1136/bmj.m810"
      ]
    },
    {
      "cell_type": "code",
      "metadata": {
        "id": "AnJiZvJdbxpL",
        "colab_type": "code",
        "colab": {}
      },
      "source": [
        "bodyweight_synonyms = [\n",
        "    'overweight',\n",
        "    'over weight',\n",
        "    'obese',\n",
        "    'obesity',\n",
        "    'bodyweight',\n",
        "    'body weight',\n",
        "    r'\\bbmi\\b',\n",
        "    'body mass',\n",
        "    'body fat',\n",
        "    'bodyfat',\n",
        "    'kilograms',\n",
        "    r'\\bkg\\b', # e.g. 70 kg\n",
        "    r'\\dkg\\b'  # e.g. 70kg\n",
        "]\n",
        "df, bodyweight_counts = count_and_tag(df, bodyweight_synonyms, 'risk_bodyweight')\n",
        "dotplot(bodyweight_counts, 'Bodyweight synonyms in title / abstract data')"
      ],
      "execution_count": 0,
      "outputs": []
    },
    {
      "cell_type": "code",
      "metadata": {
        "id": "6vaRszbYbxtr",
        "colab_type": "code",
        "colab": {}
      },
      "source": [
        "bodyweight_counts.sort_values(ascending=False)"
      ],
      "execution_count": 0,
      "outputs": []
    },
    {
      "cell_type": "code",
      "metadata": {
        "id": "oe6GVBZ4bxmc",
        "colab_type": "code",
        "colab": {}
      },
      "source": [
        "n = (df.tag_disease_covid19 & df.tag_risk_bodyweight).sum()\n",
        "print(f'There are {n} papers on Covid-19 and bodyweight')"
      ],
      "execution_count": 0,
      "outputs": []
    },
    {
      "cell_type": "code",
      "metadata": {
        "id": "tdmOFrZaa2ks",
        "colab_type": "code",
        "colab": {}
      },
      "source": [
        "print_key_phrases(df[df.tag_disease_covid19 & df.tag_risk_bodyweight],\n",
        "                  bodyweight_synonyms)"
      ],
      "execution_count": 0,
      "outputs": []
    },
    {
      "cell_type": "markdown",
      "metadata": {
        "id": "BadAszVycOpZ",
        "colab_type": "text"
      },
      "source": [
        "## Smoking\n",
        "\n",
        "e.g. _Sex difference and smoking predisposition in patients with COVID-19_,  https://doi.org/10.1016/S2213-2600(20)30117-X\n",
        "\n",
        "- smoking\n",
        "- smoke(rs)\n",
        "- cigarette(s)\n",
        "- cigar(s)\n",
        "- e-cigarette(s)\n",
        "- cannabis / marijuana / thc"
      ]
    },
    {
      "cell_type": "code",
      "metadata": {
        "id": "-rMTYd1dcKan",
        "colab_type": "code",
        "colab": {}
      },
      "source": [
        "smoking_synonyms = ['smoking',\n",
        "                    'smoke',\n",
        "                    'cigar', # this picks up cigar, cigarette, e-cigarette, etc.\n",
        "                    'nicotine',\n",
        "                    'cannabis',\n",
        "                    'marijuana']\n",
        "df, smoking_counts = count_and_tag(df, smoking_synonyms, 'risk_smoking')\n",
        "dotplot(smoking_counts, 'Smoking synonym counts in title / abstract metadata')"
      ],
      "execution_count": 0,
      "outputs": []
    },
    {
      "cell_type": "code",
      "metadata": {
        "id": "TOwBfwHEcKhv",
        "colab_type": "code",
        "colab": {}
      },
      "source": [
        "smoking_counts.sort_values(ascending=False)"
      ],
      "execution_count": 0,
      "outputs": []
    },
    {
      "cell_type": "code",
      "metadata": {
        "id": "jkE2bQtwcKeg",
        "colab_type": "code",
        "colab": {}
      },
      "source": [
        "df.groupby('tag_disease_covid19').tag_risk_smoking.value_counts()"
      ],
      "execution_count": 0,
      "outputs": []
    },
    {
      "cell_type": "code",
      "metadata": {
        "id": "qL1cjQCJcKXy",
        "colab_type": "code",
        "colab": {}
      },
      "source": [
        "n = (df.tag_disease_covid19 & df.tag_risk_smoking).sum()\n",
        "print(f'tag_disease_covid19 x tag_risk_smoking currently returns {n} papers')"
      ],
      "execution_count": 0,
      "outputs": []
    },
    {
      "cell_type": "code",
      "metadata": {
        "id": "7OObcz7acYhn",
        "colab_type": "code",
        "colab": {}
      },
      "source": [
        "print_key_phrases(df[df.tag_disease_covid19 & df.tag_risk_smoking],\n",
        "                  smoking_synonyms, n=12)"
      ],
      "execution_count": 0,
      "outputs": []
    },
    {
      "cell_type": "markdown",
      "metadata": {
        "id": "8irl04naceoo",
        "colab_type": "text"
      },
      "source": [
        "## Diabetes\n",
        "\n",
        "- Type I Diabetes\n",
        "- Type II Diabetes"
      ]
    },
    {
      "cell_type": "code",
      "metadata": {
        "id": "wKh58-gYcYmL",
        "colab_type": "code",
        "colab": {}
      },
      "source": [
        "diabetes_synonyms = [\n",
        "    'diabet', # picks up diabetes, diabetic, etc.\n",
        "    'insulin', # any paper mentioning insulin likely to be relevant\n",
        "    'blood sugar',\n",
        "    'blood glucose',\n",
        "    'ketoacidosis',\n",
        "    'hyperglycemi', # picks up hyperglycemia and hyperglycemic\n",
        "]\n",
        "df, diabetes_counts = count_and_tag(df, diabetes_synonyms, 'risk_diabetes')\n",
        "dotplot(diabetes_counts, 'Diabetes synonym counts in title / abstract metadata')"
      ],
      "execution_count": 0,
      "outputs": []
    },
    {
      "cell_type": "code",
      "metadata": {
        "id": "O3XGLdUuclFC",
        "colab_type": "code",
        "colab": {}
      },
      "source": [
        "diabetes_counts.sort_values(ascending=False)"
      ],
      "execution_count": 0,
      "outputs": []
    },
    {
      "cell_type": "code",
      "metadata": {
        "id": "x5qmNnqvclJl",
        "colab_type": "code",
        "colab": {}
      },
      "source": [
        "n = (df.tag_disease_covid19 & df.tag_risk_diabetes).sum()\n",
        "print(f'There are {n} papers on Covid-19 and diabetes')"
      ],
      "execution_count": 0,
      "outputs": []
    },
    {
      "cell_type": "code",
      "metadata": {
        "id": "h3gMe3ziclQy",
        "colab_type": "code",
        "colab": {}
      },
      "source": [
        "print_key_phrases(df[df.tag_disease_covid19 & df.tag_risk_diabetes],\n",
        "                  diabetes_synonyms, n=49)"
      ],
      "execution_count": 0,
      "outputs": []
    },
    {
      "cell_type": "markdown",
      "metadata": {
        "id": "KU-RSoZMczN6",
        "colab_type": "text"
      },
      "source": [
        "## Chronic respiratory disease"
      ]
    },
    {
      "cell_type": "code",
      "metadata": {
        "id": "Ze82p6OfcYtE",
        "colab_type": "code",
        "colab": {}
      },
      "source": [
        "chronicresp_synonyms = [\n",
        "    'chronic respiratory disease',\n",
        "    'asthma',\n",
        "    'chronic obstructive pulmonary disease',\n",
        "    r'\\bcopd',\n",
        "    'chronic bronchitis',\n",
        "    'emphysema'\n",
        "]\n",
        "df, chronicresp_counts = count_and_tag(df, chronicresp_synonyms, 'risk_chronicresp')\n",
        "dotplot(chronicresp_counts, 'Chronic respiratory disease terms in title / abstract metadata')"
      ],
      "execution_count": 0,
      "outputs": []
    },
    {
      "cell_type": "code",
      "metadata": {
        "id": "oVAqXQ19c3DV",
        "colab_type": "code",
        "colab": {}
      },
      "source": [
        "chronicresp_counts.sort_values(ascending=False)"
      ],
      "execution_count": 0,
      "outputs": []
    },
    {
      "cell_type": "code",
      "metadata": {
        "id": "t8bvCtOKc5O4",
        "colab_type": "code",
        "colab": {}
      },
      "source": [
        "n = (df.tag_disease_covid19 & df.tag_risk_chronicresp).sum()\n",
        "print(f'There are {n} papers on Covid-19 and chronic respiratory disease')"
      ],
      "execution_count": 0,
      "outputs": []
    },
    {
      "cell_type": "code",
      "metadata": {
        "id": "Y7HKQIoPc8eC",
        "colab_type": "code",
        "colab": {}
      },
      "source": [
        "print_key_phrases(df[df.tag_disease_covid19 & df.tag_risk_chronicresp],\n",
        "                  chronicresp_synonyms, n=15)"
      ],
      "execution_count": 0,
      "outputs": []
    },
    {
      "cell_type": "markdown",
      "metadata": {
        "id": "VoYdH5_DdA5Q",
        "colab_type": "text"
      },
      "source": [
        "## Asthma"
      ]
    },
    {
      "cell_type": "code",
      "metadata": {
        "id": "pRyD41uUdADE",
        "colab_type": "code",
        "colab": {}
      },
      "source": [
        "# Only really one term for asthma\n",
        "df, asthma_counts = count_and_tag(df, ['asthma'], 'risk_asthma')\n",
        "asthma_counts"
      ],
      "execution_count": 0,
      "outputs": []
    },
    {
      "cell_type": "code",
      "metadata": {
        "id": "jbwGKTlsdEHn",
        "colab_type": "code",
        "colab": {}
      },
      "source": [
        "n = (df.tag_disease_covid19 & df.tag_risk_asthma).sum()\n",
        "print(f'There are {n} papers on Covid-19 and asthma')"
      ],
      "execution_count": 0,
      "outputs": []
    },
    {
      "cell_type": "code",
      "metadata": {
        "id": "0E-rSDLFdESI",
        "colab_type": "code",
        "colab": {}
      },
      "source": [
        "print_key_phrases(df[df.tag_disease_covid19 & df.tag_risk_asthma],\n",
        "                  ['asthma'])"
      ],
      "execution_count": 0,
      "outputs": []
    },
    {
      "cell_type": "markdown",
      "metadata": {
        "id": "Cw83T3Hmda6K",
        "colab_type": "text"
      },
      "source": [
        "# Immunity\n",
        "\n",
        "Looking for terms which indicate factors relating to vaccination and immunity.\n",
        "\n",
        "## Generic immunity / vaccination\n",
        "\n",
        "Papers which mention generic themes relating to immunity / vaccination. (As the research develops, we may extend this section to include specific lines of research relating to immunity / vaccination."
      ]
    },
    {
      "cell_type": "code",
      "metadata": {
        "id": "WuOElO_VdEOX",
        "colab_type": "code",
        "colab": {}
      },
      "source": [
        "immunity_synonyms = [\n",
        "    'immunity',\n",
        "    r'\\bvaccin',\n",
        "    'innoculat'\n",
        "]\n",
        "df, immunity_counts = count_and_tag(df, immunity_synonyms, 'immunity_generic')\n",
        "immunity_counts"
      ],
      "execution_count": 0,
      "outputs": []
    },
    {
      "cell_type": "code",
      "metadata": {
        "id": "9cZbnbc-dELk",
        "colab_type": "code",
        "colab": {}
      },
      "source": [
        "n = (df.tag_disease_covid19 & df.tag_immunity_generic).sum()\n",
        "print(f'There are {n} papers on Covid-19 and immunity / vaccines')"
      ],
      "execution_count": 0,
      "outputs": []
    },
    {
      "cell_type": "code",
      "metadata": {
        "id": "jgi6c6o6dnNS",
        "colab_type": "code",
        "colab": {}
      },
      "source": [
        "print('Intersection of tag_disease_covid19, tag_risk_generic & tag_immunity_generic')\n",
        "print('=' * 76)\n",
        "print_key_phrases(df[df.tag_disease_covid19 &\n",
        "                     df.tag_risk_generic &\n",
        "                     df.tag_immunity_generic],\n",
        "                  risk_factor_synonyms + immunity_synonyms)"
      ],
      "execution_count": 0,
      "outputs": []
    },
    {
      "cell_type": "code",
      "metadata": {
        "id": "YVsaLJmvdnb7",
        "colab_type": "code",
        "colab": {}
      },
      "source": [
        ""
      ],
      "execution_count": 0,
      "outputs": []
    },
    {
      "cell_type": "markdown",
      "metadata": {
        "id": "26JLFXqwxkQa",
        "colab_type": "text"
      },
      "source": [
        "\n",
        "# Crawl and Scrape Data from Maryland Institute"
      ]
    },
    {
      "cell_type": "code",
      "metadata": {
        "id": "iWcmlOy4KY22",
        "colab_type": "code",
        "colab": {}
      },
      "source": [
        "import requests\n",
        "import pandas as pd\n",
        "import bs4\n",
        "import seaborn as sn\n",
        "import matplotlib.pyplot as plt\n",
        "import numpy as np\n"
      ],
      "execution_count": 0,
      "outputs": []
    },
    {
      "cell_type": "code",
      "metadata": {
        "id": "qAk1nROKxx53",
        "colab_type": "code",
        "colab": {}
      },
      "source": [
        "URL_COUNTIES =\"https://data.covid.umd.edu/fips-counties.csv\"\n",
        "response = requests.get(URL_COUNTIES, {}).text\n",
        "web_page = bs4.BeautifulSoup(response, \"lxml\")\n",
        "sub_page = web_page.body.find_all(\"p\")\n",
        "sub_page = sub_page[0]"
      ],
      "execution_count": 0,
      "outputs": []
    },
    {
      "cell_type": "markdown",
      "metadata": {
        "id": "I4d-pySWarKW",
        "colab_type": "text"
      },
      "source": [
        "## Build DataFrame"
      ]
    },
    {
      "cell_type": "code",
      "metadata": {
        "id": "LCWJ9m78x7eG",
        "colab_type": "code",
        "colab": {}
      },
      "source": [
        "sub_string = sub_page.string\n",
        "df_md_states = pd.DataFrame(data=[x.split(',') for x in sub_string.split('\\r\\n')],\n",
        "                            columns=['fips', 'county_name', 'state_abbr',\t'state_name',\t'long_name',\t'sumlev',\t'region',\t'division',\t'state',\t'county',\t'crosswalk',\t'region_name',\t'division_name'])\n",
        "df_md_states = df_md_states[1:]\n",
        "df_md_states.head()"
      ],
      "execution_count": 0,
      "outputs": []
    },
    {
      "cell_type": "code",
      "metadata": {
        "id": "kDcqs6edyA7x",
        "colab_type": "code",
        "colab": {}
      },
      "source": [
        "df_md_states.info()"
      ],
      "execution_count": 0,
      "outputs": []
    },
    {
      "cell_type": "code",
      "metadata": {
        "id": "oSb8TLa0gUOP",
        "colab_type": "code",
        "colab": {}
      },
      "source": [
        "URL_NATIONAL =\"https://data.covid.umd.edu/data/National.csv\"\n",
        "response_national = requests.get(URL_NATIONAL, {}).text\n",
        "web_page_national = bs4.BeautifulSoup(response_national, \"lxml\")\n",
        "sub_page_national = web_page_national.body.find_all(\"p\")\n",
        "sub_page_national = sub_page_national[0]\n",
        "sub_page_national"
      ],
      "execution_count": 0,
      "outputs": []
    },
    {
      "cell_type": "code",
      "metadata": {
        "id": "Av-B9JcKz7qR",
        "colab_type": "code",
        "colab": {}
      },
      "source": [
        "# sub_string_national = sub_page_national.string\n",
        "# df_md_national = pd.DataFrame(data=[x.split(',') for x in sub_string_national.split('\\n')],\n",
        "                            # columns=['name','social_distancing_index','%_staying_home','#trips/person','%_out-of-county_trips','miles_traveled/person','#work_trips/person','#non-work_trips/person','covid_case_count','population','date'])\n",
        "# df_md_national = df_md_national[1:]\n",
        "# df_md_national.head()"
      ],
      "execution_count": 0,
      "outputs": []
    },
    {
      "cell_type": "code",
      "metadata": {
        "id": "HZ95gg0HyYnd",
        "colab_type": "code",
        "colab": {}
      },
      "source": [
        "sub_string_national = sub_page_national.string\n",
        "df_md_national = pd.DataFrame(data=[x.split(',') for x in sub_string_national.split('\\n')],\n",
        "                            columns=['Name',\n",
        " 'Social_distancing_index',\n",
        " '%_staying_home',\n",
        " 'Trips/person',\n",
        " '%_External_trips',\n",
        " 'Miles/person',\n",
        " 'Work_trips/person',\n",
        " 'Non-work_trips/person',\n",
        " 'New_COVID_cases',\n",
        " 'Population',\n",
        " '%_change_in_consumption',\n",
        " 'date',\n",
        " 'Transit_mode_share',\n",
        " '%_people_older_than_60',\n",
        " 'Median_income',\n",
        " '%_African_Americans',\n",
        " '%_Hispanic_Americans',\n",
        " '%_Male',\n",
        " 'Population_density',\n",
        " 'Employment_density',\n",
        " '#_hot_spots/1000_people',\n",
        " 'Hospital_beds/1000_people',\n",
        " 'ICUs/1000_people',\n",
        " '%_hospital_bed_utilization',\n",
        " '#_contact_tracing_workers/1000_people',\n",
        " 'COVID_exposure/1000_people',\n",
        " '#days:_decreasing_ILI_cases',\n",
        " 'Unemployment_claims/1000_people',\n",
        " 'Unemployment_rate',\n",
        " '%_working_from_home',\n",
        " 'Cumulative_inflation_rate',\n",
        " 'COVID_death_rate',\n",
        " 'New_cases/1000_people',\n",
        " 'Active_cases/1000_people',\n",
        " '#days:_decreasing_COVID_cases',\n",
        " 'Testing_capacity',\n",
        " 'Tests_done/1000_people',\n",
        " '%_ICU_utilization',\n",
        " 'Ventilator_shortage',\n",
        " 'Imported_COVID_cases'])\n",
        "df_md_national = df_md_national[1:]\n",
        "# df_md_national.head()"
      ],
      "execution_count": 0,
      "outputs": []
    },
    {
      "cell_type": "code",
      "metadata": {
        "id": "8jHqtbeXx72L",
        "colab_type": "code",
        "colab": {}
      },
      "source": [
        "# [x.split(',') for x in sub_string_national.split('\\n')][0]"
      ],
      "execution_count": 0,
      "outputs": []
    },
    {
      "cell_type": "markdown",
      "metadata": {
        "id": "SmIA1X80HtJO",
        "colab_type": "text"
      },
      "source": [
        "# PRE-PROCESSING\n"
      ]
    },
    {
      "cell_type": "code",
      "metadata": {
        "id": "QDuiM0D2H_Uc",
        "colab_type": "code",
        "colab": {}
      },
      "source": [
        "# !jupyter nbconvert --to html COVID19Assignment.ipynbd\n",
        "# TODO handle dupl, etc. look at description\n",
        "\n",
        "# Approach. think about classifiers.\n",
        "df_md_states['fips'] = df_md_states['fips'].astype(int)\n",
        "df_md_states['county_name'] = df_md_states['county_name'].astype('string')\n",
        "df_md_states['state_abbr'] = df_md_states['state_abbr'].astype('string')\n",
        "df_md_states['state_name'] = df_md_states['state_name'].astype('string')\n",
        "df_md_states['long_name'] = df_md_states['long_name'].astype('string')\n",
        "df_md_states = df_md_states[df_md_states['sumlev'] != 'NA']\n",
        "df_md_states['sumlev'] = df_md_states['sumlev'].astype(int)\n",
        "df_md_states['region'] = df_md_states['region'].astype(int)\n",
        "df_md_states['division'] = df_md_states['division'].astype(int)\n",
        "df_md_states['state'] = df_md_states['state'].astype(int)\n",
        "df_md_states['county'] = df_md_states['county'].astype(int)\n",
        "df_md_states['crosswalk'] = df_md_states['crosswalk'].astype('string')\n",
        "df_md_states['region_name'] = df_md_states['region_name'].astype('string')\n",
        "df_md_states['division_name'] = df_md_states['division_name'].astype('string')"
      ],
      "execution_count": 0,
      "outputs": []
    },
    {
      "cell_type": "code",
      "metadata": {
        "id": "novHlQHtP9Re",
        "colab_type": "code",
        "colab": {}
      },
      "source": [
        "df_md_states.info()"
      ],
      "execution_count": 0,
      "outputs": []
    },
    {
      "cell_type": "code",
      "metadata": {
        "id": "rWg68-IZ0o-t",
        "colab_type": "code",
        "colab": {}
      },
      "source": [
        "df_md_national.info()"
      ],
      "execution_count": 0,
      "outputs": []
    },
    {
      "cell_type": "code",
      "metadata": {
        "id": "F7k9WOsw2Baw",
        "colab_type": "code",
        "colab": {}
      },
      "source": [
        "df_md_national = df_md_national.dropna()\n",
        "df_md_national"
      ],
      "execution_count": 0,
      "outputs": []
    },
    {
      "cell_type": "code",
      "metadata": {
        "id": "N7L0p5o00vrN",
        "colab_type": "code",
        "colab": {}
      },
      "source": [
        "df_md_national['Name'] = df_md_national['Name'].astype('string')\n",
        "df_md_national['Social_distancing_index'] = df_md_national['Social_distancing_index'].astype(int)\n",
        "df_md_national['%_staying_home'] = df_md_national['%_staying_home'].astype(int)\n",
        "df_md_national['Trips/person'] = df_md_national['Trips/person'].astype('string')\n",
        "df_md_national['%_External_trips'] = df_md_national['%_External_trips'].astype(float)\n",
        "df_md_national['Miles/person'] = df_md_national['Miles/person'].astype(float)\n",
        "df_md_national['Work_trips/person'] = df_md_national['Work_trips/person'].astype(float)\n",
        "df_md_national['Non-work_trips/person'] = df_md_national['Non-work_trips/person'].astype(float)\n",
        "df_md_national['New_COVID_cases'] = df_md_national['New_COVID_cases'].astype(int)\n",
        "df_md_national['Population'] = df_md_national['Population'].astype(int)\n",
        "df_md_national['%_change_in_consumption'] = df_md_national['%_change_in_consumption'].astype(float)\n",
        "df_md_national['date'] = df_md_national['date'].astype('string')\n",
        "df_md_national['Transit_mode_share'] = df_md_national['Transit_mode_share'].astype(float)\n",
        "df_md_national['%_people_older_than_60'] = df_md_national['%_people_older_than_60'].astype(int)\n",
        "df_md_national['Median_income'] = df_md_national['Median_income'].astype(int)\n",
        "df_md_national['%_African_Americans'] = df_md_national['%_African_Americans'].astype(float)\n",
        "df_md_national['%_Hispanic_Americans'] = df_md_national['%_Hispanic_Americans'].astype(float)\n",
        "df_md_national['%_Male'] = df_md_national['%_Male'].astype(float)\n",
        "df_md_national['Population_density'] = df_md_national['Population_density'].astype(int)\n",
        "df_md_national['Employment_density'] = df_md_national['Employment_density'].astype(int)\n",
        "df_md_national['#_hot_spots/1000_people'] = df_md_national['#_hot_spots/1000_people'].astype(int)\n",
        "df_md_national['Hospital_beds/1000_people'] = df_md_national['Hospital_beds/1000_people'].astype(float)\n",
        "df_md_national['ICUs/1000_people'] = df_md_national['ICUs/1000_people'].astype(float)\n",
        "df_md_national['%_hospital_bed_utilization'] = df_md_national['%_hospital_bed_utilization'].astype(float)\n",
        "df_md_national['#_contact_tracing_workers/1000_people'] = df_md_national['#_contact_tracing_workers/1000_people'].astype(float)\n",
        "df_md_national['COVID_exposure/1000_people'] = df_md_national['COVID_exposure/1000_people'].astype(float)\n",
        "df_md_national['#days:_decreasing_ILI_cases'] = df_md_national['#days:_decreasing_ILI_cases'].astype(float)\n",
        "df_md_national['Unemployment_claims/1000_people'] = df_md_national['Unemployment_claims/1000_people'].astype(float)\n",
        "df_md_national['Unemployment_rate'] = df_md_national['Unemployment_rate'].astype(float)\n",
        "df_md_national['%_working_from_home'] = df_md_national['%_working_from_home'].astype(float)\n",
        "df_md_national['Cumulative_inflation_rate'] = df_md_national['Cumulative_inflation_rate'].astype(float)\n",
        "df_md_national['COVID_death_rate'] = df_md_national['COVID_death_rate'].astype(float)\n",
        "df_md_national['New_cases/1000_people'] = df_md_national['New_cases/1000_people'].astype(float)\n",
        "df_md_national['Active_cases/1000_people'] = df_md_national['Active_cases/1000_people'].astype(float)\n",
        "df_md_national['#days:_decreasing_COVID_cases'] = df_md_national['#days:_decreasing_COVID_cases'].astype(int)\n",
        "df_md_national['Testing_capacity'] = df_md_national['Testing_capacity'].astype(float)\n",
        "df_md_national['Tests_done/1000_people'] = df_md_national['Tests_done/1000_people'].astype(float)\n",
        "df_md_national['%_ICU_utilization'] = df_md_national['%_ICU_utilization'].astype(float)\n",
        "df_md_national['Ventilator_shortage'] = df_md_national['Ventilator_shortage'].astype(int)\n",
        "df_md_national['Imported_COVID_cases'] = df_md_national['Imported_COVID_cases'].astype(int)\n"
      ],
      "execution_count": 0,
      "outputs": []
    },
    {
      "cell_type": "code",
      "metadata": {
        "id": "HUCTqaW60KnJ",
        "colab_type": "code",
        "colab": {}
      },
      "source": [
        "df_md_national['target'] = pd.cut(df_md_national['New_cases/1000_people'], bins=2, labels=np.arange(2), right=False)\n",
        "df_md_national['target']"
      ],
      "execution_count": 0,
      "outputs": []
    },
    {
      "cell_type": "code",
      "metadata": {
        "id": "uZ2a0iL8qF8q",
        "colab_type": "code",
        "colab": {}
      },
      "source": [
        "def meta_data(data):\n",
        "  total = data.isnull().sum()\n",
        "  percent = (data.isnull().sum()/data.isnull().count()*100)\n",
        "  unique = data.nunique()\n",
        "  datatypes = data.dtypes\n",
        "  return pd.concat([total, percent, unique, datatypes], axis=1, keys=['Total', 'Percent', 'Unique', 'Data_Type']).sort_values(by=\"Percent\", ascending=False)"
      ],
      "execution_count": 0,
      "outputs": []
    },
    {
      "cell_type": "code",
      "metadata": {
        "id": "TRJ4ekzvqamF",
        "colab_type": "code",
        "colab": {}
      },
      "source": [
        "#calculating meta-data for application_data\n",
        "app_meta_data=meta_data(df_md_national)\n",
        "app_meta_data = app_meta_data.loc[app_meta_data['Unique'] != 1]\n",
        "# app_meta_data = app_meta_data.loc[:,app_meta_data.apply(pd.Series.nunique) != 1]\n",
        "app_meta_data"
      ],
      "execution_count": 0,
      "outputs": []
    },
    {
      "cell_type": "code",
      "metadata": {
        "id": "E8V7KtKSgNS7",
        "colab_type": "code",
        "colab": {}
      },
      "source": [
        "cols= ['COVID_exposure/1000_people','#days:_decreasing_ILI_cases','Unemployment_claims/1000_people','Unemployment_rate','%_working_from_home',\n",
        "       'Cumulative_inflation_rate','COVID_death_rate','Active_cases/1000_people','#days:_decreasing_COVID_cases',\n",
        "       'Testing_capacity','Tests_done/1000_people','%_ICU_utilization','Ventilator_shortage','Imported_COVID_cases','Social_distancing_index',\n",
        "       '%_staying_home','Trips/person','%_External_trips','Miles/person','Work_trips/person','Non-work_trips/person','New_COVID_cases',\n",
        "       '%_change_in_consumption']\n",
        "# cols_2 = list(app_meta_data.columns)\n",
        "# cols_2\n",
        "app_meta_data.index.values.tolist()"
      ],
      "execution_count": 0,
      "outputs": []
    },
    {
      "cell_type": "code",
      "metadata": {
        "id": "BKAOVnU5yjL-",
        "colab_type": "code",
        "colab": {}
      },
      "source": [
        "defaulters_1=df_md_national[cols]\n",
        "defaulters_pearson_corr = defaulters_1.corr(method='pearson')\n",
        "round(defaulters_pearson_corr, 3)\n",
        "# dcorr_parson = defaulters_1.corr(method ='pearson')\n",
        "# dcorr_parson.iloc[1:25, :0]"
      ],
      "execution_count": 0,
      "outputs": []
    },
    {
      "cell_type": "code",
      "metadata": {
        "id": "EhjtexBwn63F",
        "colab_type": "code",
        "colab": {}
      },
      "source": [
        "# figure size\n",
        "plt.figure(figsize=(15,10))\n",
        "# heatmap\n",
        "sns.heatmap(defaulters_pearson_corr, cmap=\"YlGnBu\", annot=True)\n",
        "plt.show()"
      ],
      "execution_count": 0,
      "outputs": []
    },
    {
      "cell_type": "code",
      "metadata": {
        "id": "RkJm3QjvojRU",
        "colab_type": "code",
        "colab": {}
      },
      "source": [
        "# Create abs correlation matrix\n",
        "corr_matrix = defaulters_pearson_corr.abs()\n",
        "# Select upper triangle of correlation matrix\n",
        "upper = corr_matrix.where(np.triu(np.ones(corr_matrix.shape), k=1).astype(np.bool))\n",
        "# Find index of feature columns with correlation greater than 0.4\n",
        "to_drop = [column for column in upper.columns if any(upper[column] > 0.90)]\n",
        "# Drop features \n",
        "meta_app_df_pearson = defaulters_1.drop(defaulters_1[to_drop], axis=1)\n",
        "meta_app_df_pearson"
      ],
      "execution_count": 0,
      "outputs": []
    },
    {
      "cell_type": "code",
      "metadata": {
        "id": "4QAGNo6vzGES",
        "colab_type": "code",
        "colab": {}
      },
      "source": [
        "# df_md_national.min()['New_cases/1000_people']"
      ],
      "execution_count": 0,
      "outputs": []
    },
    {
      "cell_type": "code",
      "metadata": {
        "id": "WdAH-EKXs4sv",
        "colab_type": "code",
        "colab": {}
      },
      "source": [
        "# cols=['Social_distancing_index', '%_staying_home', 'Trips/person', '%_External_trips']\n",
        "# cols_target=['New_cases/1000_people']\n",
        "X = df_md_national[list(meta_app_df_pearson.columns)]\n",
        "\n",
        "y = df_md_national.target"
      ],
      "execution_count": 0,
      "outputs": []
    },
    {
      "cell_type": "code",
      "metadata": {
        "id": "A91M3yFVs49O",
        "colab_type": "code",
        "colab": {}
      },
      "source": [
        "pearson_cols = list(meta_app_df_pearson.columns)\n",
        "pearson_cols"
      ],
      "execution_count": 0,
      "outputs": []
    },
    {
      "cell_type": "code",
      "metadata": {
        "id": "CLsao-Otvdxk",
        "colab_type": "code",
        "colab": {}
      },
      "source": [
        "# Split dataset into training set and test set\n",
        "from sklearn.model_selection import train_test_split # Import train_test_split function\n",
        "X_train, X_test, y_train, y_test = train_test_split(X, y, test_size=0.3, random_state=1) # 70% training and 30% test"
      ],
      "execution_count": 0,
      "outputs": []
    },
    {
      "cell_type": "code",
      "metadata": {
        "id": "S_2SkqCd1g_X",
        "colab_type": "code",
        "colab": {}
      },
      "source": [
        "from sklearn import metrics, tree\n",
        "from sklearn.tree import export_graphviz, DecisionTreeClassifier # Import Decision Tree Classifier\n",
        "dtree = tree.DecisionTreeClassifier(criterion = \"gini\", splitter = 'random', max_leaf_nodes = 10, min_samples_leaf = 5, max_depth= 5)\n",
        "dtree.fit(X_train,y_train)"
      ],
      "execution_count": 0,
      "outputs": []
    },
    {
      "cell_type": "code",
      "metadata": {
        "id": "sJ9KEvOQ1hYx",
        "colab_type": "code",
        "colab": {}
      },
      "source": [
        "DecisionTreeClassifier(class_weight=None, criterion='gini', max_depth=5,\n",
        "            max_features=None, max_leaf_nodes=10, min_samples_leaf=5,\n",
        "            min_samples_split=2, min_weight_fraction_leaf=0.0,\n",
        "            presort=False, random_state=None, splitter='random')"
      ],
      "execution_count": 0,
      "outputs": []
    },
    {
      "cell_type": "code",
      "metadata": {
        "id": "5vJru9yC1hkY",
        "colab_type": "code",
        "colab": {}
      },
      "source": [
        "x_train_pred  = dtree.predict(X_train)"
      ],
      "execution_count": 0,
      "outputs": []
    },
    {
      "cell_type": "code",
      "metadata": {
        "id": "uj2vW9PT1hsP",
        "colab_type": "code",
        "colab": {}
      },
      "source": [
        "print(\"Accuracy:\",metrics.accuracy_score(y_train, x_train_pred))"
      ],
      "execution_count": 0,
      "outputs": []
    },
    {
      "cell_type": "code",
      "metadata": {
        "id": "wyPfFQ4K2Y5z",
        "colab_type": "code",
        "colab": {}
      },
      "source": [
        "import pydotplus\n",
        "from IPython.display import Image\n",
        "dot_data = tree.export_graphviz(dtree, out_file=None, \n",
        "                     feature_names=pearson_cols,  \n",
        "                     class_names=['0','1'],  \n",
        "                     filled=True, rounded=True,  \n",
        "                     special_characters=True)  \n",
        "# graph = graphviz.Source(dot_data)  \n",
        "# graph\n",
        "\n",
        "pydot_graph = pydotplus.graph_from_dot_data(dot_data)\n",
        "pydot_graph.write_png('original_tree.png')\n",
        "pydot_graph.set_size('\"9,5!\"')\n",
        "pydot_graph.write_png('resized_tree.png')\n",
        "\n",
        "Image(pydot_graph.create_png())"
      ],
      "execution_count": 0,
      "outputs": []
    },
    {
      "cell_type": "code",
      "metadata": {
        "id": "5H_1zNwiv-cV",
        "colab_type": "code",
        "colab": {}
      },
      "source": [
        "# Create a Logistic Regression Object, perform Logistic Regression\n",
        "from sklearn.linear_model import LogisticRegression\n",
        "logistic_reg = LogisticRegression()\n",
        "logistic_reg.fit(X_train, y_train)\n"
      ],
      "execution_count": 0,
      "outputs": []
    },
    {
      "cell_type": "code",
      "metadata": {
        "id": "SBQVdJtkwpX0",
        "colab_type": "code",
        "colab": {}
      },
      "source": [
        "# Perform prediction using the test dataset\n",
        "from sklearn.metrics import confusion_matrix\n",
        "y_pred = logistic_reg.predict(X_test)\n",
        "\n",
        "# Show the Confusion Matrix\n",
        "cnf_matrix = confusion_matrix(y_test, y_pred)\n",
        "cnf_matrix "
      ],
      "execution_count": 0,
      "outputs": []
    },
    {
      "cell_type": "code",
      "metadata": {
        "id": "g_uQcqqV4T8s",
        "colab_type": "code",
        "colab": {}
      },
      "source": [
        "import seaborn as sns\n",
        "class_names=[0,1] # name  of classes\n",
        "fig, ax = plt.subplots()\n",
        "tick_marks = np.arange(len(class_names))\n",
        "plt.xticks(tick_marks, class_names)\n",
        "plt.yticks(tick_marks, class_names)\n",
        "# create heatmap\n",
        "sns.heatmap(pd.DataFrame(cnf_matrix), annot=True, cmap=\"YlGnBu\" ,fmt='g')\n",
        "ax.xaxis.set_label_position(\"top\")\n",
        "plt.tight_layout()\n",
        "plt.title('Confusion matrix', y=1.1)\n",
        "plt.ylabel('Actual label')\n",
        "plt.xlabel('Predicted label')\n"
      ],
      "execution_count": 0,
      "outputs": []
    },
    {
      "cell_type": "code",
      "metadata": {
        "id": "Msx2Lzka5JLb",
        "colab_type": "code",
        "colab": {}
      },
      "source": [
        "print(\"Accuracy:\",metrics.accuracy_score(y_test, y_pred))\n",
        "print(\"Precision:\",metrics.precision_score(y_test, y_pred))\n",
        "print(\"Recall:\",metrics.recall_score(y_test, y_pred))"
      ],
      "execution_count": 0,
      "outputs": []
    },
    {
      "cell_type": "code",
      "metadata": {
        "id": "Y9Sc75q55V2W",
        "colab_type": "code",
        "colab": {}
      },
      "source": [
        "# Linear SVC\n",
        "from sklearn.svm import SVC, LinearSVC\n",
        "from sklearn.model_selection import KFold\n",
        "from sklearn.model_selection import cross_val_score\n",
        "from sklearn import preprocessing\n",
        "lab_enc = preprocessing.LabelEncoder()\n",
        "training_scores_encoded = lab_enc.fit_transform(y)\n",
        "\n",
        "\n",
        "kfold = KFold(n_splits=10, random_state=42)\n",
        "linear_svc = LinearSVC(max_iter=1000)\n",
        "results_linearsvc= cross_val_score(linear_svc, X, training_scores_encoded, cv=kfold, scoring='accuracy')\n",
        "print('Estimate accuracy',results_linearsvc.mean())"
      ],
      "execution_count": 0,
      "outputs": []
    },
    {
      "cell_type": "code",
      "metadata": {
        "id": "EBeFxWLJ_mkE",
        "colab_type": "code",
        "colab": {}
      },
      "source": [
        ""
      ],
      "execution_count": 0,
      "outputs": []
    },
    {
      "cell_type": "code",
      "metadata": {
        "id": "Gu5Vd70e677l",
        "colab_type": "code",
        "colab": {}
      },
      "source": [
        "from sklearn.ensemble import RandomForestClassifier\n",
        "\n",
        "# Random Forest\n",
        "kfold = KFold(n_splits=10, random_state=42)\n",
        "random_forest = RandomForestClassifier(n_estimators=100)\n",
        "results_randomforest = cross_val_score(random_forest , X, training_scores_encoded, cv=kfold,scoring='accuracy')\n",
        "print('Estimate accuracy',results_randomforest.mean())"
      ],
      "execution_count": 0,
      "outputs": []
    },
    {
      "cell_type": "code",
      "metadata": {
        "id": "sojdBr2aAYSS",
        "colab_type": "code",
        "colab": {}
      },
      "source": [
        "from sklearn.linear_model import Perceptron\n",
        "\n",
        "# Perceptron\n",
        "kfold = KFold(n_splits=10, random_state=42)\n",
        "perceptron = Perceptron(max_iter=1000,tol=1e-3)\n",
        "results_perceptron = cross_val_score(perceptron, X, training_scores_encoded, cv=kfold,scoring='accuracy')\n",
        "print('Estimate accuracy',results_perceptron.mean())"
      ],
      "execution_count": 0,
      "outputs": []
    },
    {
      "cell_type": "code",
      "metadata": {
        "id": "j07d9EYTAonD",
        "colab_type": "code",
        "colab": {}
      },
      "source": [
        "import pandas\n",
        "from sklearn import model_selection\n",
        "from sklearn.ensemble import VotingClassifier\n",
        "\n",
        "kfold = KFold(n_splits=10, random_state=42)\n",
        "\n",
        "# create the sub models\n",
        "estimators = []\n",
        "\n",
        "estimators.append(('logistic', logistic_reg))\n",
        "estimators.append(('decision_tree', dtree))\n",
        "estimators.append(('perceptron', perceptron))\n",
        "estimators.append(('svm', linear_svc))\n",
        "estimators.append(('random_forest', random_forest))\n",
        "\n",
        "\n",
        "# create the ensemble model\n",
        "ensemble = VotingClassifier(estimators, weights=[1,2,1,1,2])\n",
        "results = model_selection.cross_val_score(ensemble, X, y, cv=kfold)\n",
        "print('ensemble accuracy: ', results.mean()) \n",
        "# print(results) "
      ],
      "execution_count": 0,
      "outputs": []
    },
    {
      "cell_type": "code",
      "metadata": {
        "id": "eXvHIm2k2YbK",
        "colab_type": "code",
        "colab": {}
      },
      "source": [
        "df_md_national.info()"
      ],
      "execution_count": 0,
      "outputs": []
    },
    {
      "cell_type": "code",
      "metadata": {
        "id": "1ZX_5_PbgznJ",
        "colab_type": "code",
        "colab": {}
      },
      "source": [
        "sn.set(rc={'figure.figsize':(16,10)})\n",
        "\n",
        "sn.countplot(df_md_national.Social_distancing_index)\n",
        "plt.xlabel(\"value\")\n",
        "plt.ylabel(\"count of target\")\n",
        "plt.title(\"Distribution of Social Distancing Variable\")\n",
        "plt.show()"
      ],
      "execution_count": 0,
      "outputs": []
    },
    {
      "cell_type": "markdown",
      "metadata": {
        "id": "4jQRXh9MiZU2",
        "colab_type": "text"
      },
      "source": [
        "# FEATURE SELECTION"
      ]
    },
    {
      "cell_type": "code",
      "metadata": {
        "id": "0jgaBszrSFxU",
        "colab_type": "code",
        "colab": {}
      },
      "source": [
        ""
      ],
      "execution_count": 0,
      "outputs": []
    },
    {
      "cell_type": "markdown",
      "metadata": {
        "id": "7IErF6uPin2V",
        "colab_type": "text"
      },
      "source": [
        "# ANALYSIS"
      ]
    },
    {
      "cell_type": "code",
      "metadata": {
        "id": "nb0r1uULLoBR",
        "colab_type": "code",
        "colab": {}
      },
      "source": [
        ""
      ],
      "execution_count": 0,
      "outputs": []
    },
    {
      "cell_type": "markdown",
      "metadata": {
        "id": "e33HK7PuiuCQ",
        "colab_type": "text"
      },
      "source": [
        "# KNOWLEDGE EXTRACTION"
      ]
    },
    {
      "cell_type": "code",
      "metadata": {
        "id": "Us3XOCIlE_gg",
        "colab_type": "code",
        "colab": {}
      },
      "source": [
        ""
      ],
      "execution_count": 0,
      "outputs": []
    },
    {
      "cell_type": "code",
      "metadata": {
        "id": "OcaN0VkkV_NW",
        "colab_type": "code",
        "colab": {}
      },
      "source": [
        ""
      ],
      "execution_count": 0,
      "outputs": []
    }
  ]
}